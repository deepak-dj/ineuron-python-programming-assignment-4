{
  "nbformat": 4,
  "nbformat_minor": 0,
  "metadata": {
    "colab": {
      "provenance": [],
      "collapsed_sections": []
    },
    "kernelspec": {
      "name": "python3",
      "display_name": "Python 3"
    },
    "language_info": {
      "name": "python"
    }
  },
  "cells": [
    {
      "cell_type": "markdown",
      "source": [
        "# Python Programme Assignment 9"
      ],
      "metadata": {
        "id": "xKKJnztJzaNV"
      }
    },
    {
      "cell_type": "markdown",
      "source": [
        "1. Write a Python program to check if the given number is a Disarium Number?\n",
        "2. Write a Python program to print all disarium numbers between 1 to 100?\n",
        "3. Write a Python program to check if the given number is Happy Number?\n",
        "4. Write a Python program to print all happy numbers between 1 and 100?\n",
        "5. Write a Python program to determine whether the given number is a Harshad Number?\n",
        "6. Write a Python program to print all pronic numbers between 1 and 100?"
      ],
      "metadata": {
        "id": "HpIAuyKgzQFJ"
      }
    },
    {
      "cell_type": "code",
      "source": [
        "# ques 1\n",
        "\n",
        "def disarium(num):\n",
        "  d = 0\n",
        "  n = str(num)\n",
        "  for i in range(len(n)):\n",
        "    d += int(n[i])**(i+1)\n",
        "\n",
        "  if d == num:   \n",
        "   return f'the given input {num} is a disarium , output : {d}'  \n",
        "  else:\n",
        "    return f'the given input {num} is not disarium, output :  {d}'\n",
        "\n",
        "print(disarium(135))  \n",
        "print()\n",
        "print(disarium(136))"
      ],
      "metadata": {
        "colab": {
          "base_uri": "https://localhost:8080/"
        },
        "id": "2Iuc2eCvzQn7",
        "outputId": "4b02efbd-d9fb-407a-e962-7ad888bbf9cf"
      },
      "execution_count": null,
      "outputs": [
        {
          "output_type": "stream",
          "name": "stdout",
          "text": [
            "the given input 135 is a disarium , output : 135\n",
            "\n",
            "the given input 136 is not disarium, output :  226\n"
          ]
        }
      ]
    },
    {
      "cell_type": "code",
      "source": [
        "# ques 2\n",
        "\n",
        "def disarium1(num):\n",
        "  d = 0\n",
        "  n = str(num)\n",
        "  for i in range(len(n)):\n",
        "    d += int(n[i])**(i+1)\n",
        "  if d == num:   \n",
        "   return d\n",
        " \n",
        "y = []\n",
        "x = 0\n",
        "for i in range(1,100):\n",
        "    if int(i) == disarium1(i):\n",
        "     y.append(i)\n",
        "print(y)    \n",
        "    \n",
        "\n"
      ],
      "metadata": {
        "colab": {
          "base_uri": "https://localhost:8080/"
        },
        "id": "lCZPRwk5rxAj",
        "outputId": "d2b0655a-ccea-46ba-8b50-bdb8bd18c1d9"
      },
      "execution_count": null,
      "outputs": [
        {
          "output_type": "stream",
          "name": "stdout",
          "text": [
            "[1, 2, 3, 4, 5, 6, 7, 8, 9, 89]\n"
          ]
        }
      ]
    },
    {
      "cell_type": "code",
      "source": [
        "\n",
        "# ques 3\n",
        "\n",
        "def happy_num(num):\n",
        "  a = 0\n",
        "  n = str(num)\n",
        "  if num == 0:\n",
        "    return 0\n",
        "  else:  \n",
        "    for i in n:\n",
        "        a += int(i)**2\n",
        "    \n",
        "    while len(str(a)) > 1 and '0' not in str(a):\n",
        "      happy_num(a)\n",
        "      break\n",
        "    else:\n",
        "       x = [1,10,100,1000,10000,100000,1000000] \n",
        "       if a in x:\n",
        "         print(f'{number} is a happy number')\n",
        "       else:\n",
        "         print(f'{number} is not a happy number')  \n",
        "          \n",
        "\n",
        "number = 86\n",
        "happy_num(number) "
      ],
      "metadata": {
        "colab": {
          "base_uri": "https://localhost:8080/"
        },
        "id": "3e2WQKX8u43o",
        "outputId": "7d1f6a86-537a-47c1-9234-8572e3d455b4"
      },
      "execution_count": 113,
      "outputs": [
        {
          "output_type": "stream",
          "name": "stdout",
          "text": [
            "86 is a happy number\n"
          ]
        }
      ]
    },
    {
      "cell_type": "code",
      "source": [
        "# ques 4\n",
        "def happy_num1(num):\n",
        "  a = 0\n",
        "  n = str(num)\n",
        "  if num == 0:\n",
        "    return 0\n",
        "  else:  \n",
        "    for i in n:\n",
        "        a += int(i)**2\n",
        "    \n",
        "    while len(str(a)) > 1 and '0' not in str(a):\n",
        "      happy_num1(a)\n",
        "      break\n",
        "    else:\n",
        "       x = [1,10,100,1000,10000,100000,1000000] \n",
        "       if a in x:\n",
        "         return(True)\n",
        "       else:\n",
        "         return(False)\n",
        "\n",
        "\n",
        "l = []\n",
        "for i in range(1,100):\n",
        "  if happy_num1(i) == True:\n",
        "    l.append(i)\n",
        "print(l)\n",
        "\n"
      ],
      "metadata": {
        "id": "QQcK1te620UF",
        "colab": {
          "base_uri": "https://localhost:8080/"
        },
        "outputId": "cd72b558-c9d2-495a-ee2b-9f1f7c95baec"
      },
      "execution_count": 111,
      "outputs": [
        {
          "output_type": "stream",
          "name": "stdout",
          "text": [
            "[1, 10, 13, 31, 68, 86]\n"
          ]
        }
      ]
    },
    {
      "cell_type": "code",
      "source": [
        "# ques 5\n",
        "\n",
        "def harshad(num):\n",
        "  n = str(num)\n",
        "  if num % len(n) == 0:\n",
        "      print(f'{num} is a harshad number')\n",
        "  else:\n",
        "      print(f'{num} is not a harshad number')\n",
        "\n",
        "harshad(198)      \n"
      ],
      "metadata": {
        "id": "lamtnweJXW3h",
        "colab": {
          "base_uri": "https://localhost:8080/"
        },
        "outputId": "e433e7f6-6017-4d86-ac87-a11281c8768c"
      },
      "execution_count": 115,
      "outputs": [
        {
          "output_type": "stream",
          "name": "stdout",
          "text": [
            "198 is a harshad number\n"
          ]
        }
      ]
    },
    {
      "cell_type": "code",
      "source": [
        "# ques 6\n",
        "\n",
        "def pronic(num):\n",
        "  n = int(num**(1/2))\n",
        "  if num == n*(n+1):\n",
        "    return True\n",
        "  else:\n",
        "    return False\n",
        "\n",
        "l = []\n",
        "for i in range(1,100):\n",
        "  if pronic(i) is True:\n",
        "    l.append(i)\n",
        "print(l)    \n"
      ],
      "metadata": {
        "colab": {
          "base_uri": "https://localhost:8080/"
        },
        "id": "isg4R4HzgHmt",
        "outputId": "e9309c5d-d0aa-4d15-da21-3c2b14b9e917"
      },
      "execution_count": 124,
      "outputs": [
        {
          "output_type": "stream",
          "name": "stdout",
          "text": [
            "[2, 6, 12, 20, 30, 42, 56, 72, 90]\n"
          ]
        }
      ]
    }
  ]
}