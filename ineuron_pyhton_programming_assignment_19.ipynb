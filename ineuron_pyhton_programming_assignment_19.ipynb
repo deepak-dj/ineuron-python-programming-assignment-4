{
  "nbformat": 4,
  "nbformat_minor": 0,
  "metadata": {
    "colab": {
      "provenance": []
    },
    "kernelspec": {
      "name": "python3",
      "display_name": "Python 3"
    },
    "language_info": {
      "name": "python"
    }
  },
  "cells": [
    {
      "cell_type": "markdown",
      "source": [
        "\n",
        "\n",
        "#Python Programme Assignment 19\n",
        "\n"
      ],
      "metadata": {
        "id": "IZjCp7jCfmIp"
      }
    },
    {
      "cell_type": "markdown",
      "source": [
        "1. Create a function that takes a string and returns a string in which each character is repeated\n",
        "once.\n",
        ">\n",
        " Examples\n",
        ">- double_char(&quot;String&quot;) ➞ &quot;SSttrriinngg&quot;\n",
        "double_char(&quot;Hello World!&quot;) ➞ &quot;HHeelllloo WWoorrlldd!!&quot;\n",
        ">-double_char(&quot;1234!_ &quot;) ➞ &quot;11223344!!__ &quot;\n",
        "\n",
        "2. Create a function that reverses a boolean value and returns the string &quot;boolean expected&quot;\n",
        "if another variable type is given.\n",
        "> Examples\n",
        ">- reverse(True) ➞ False\n",
        ">- reverse(False) ➞ True\n",
        ">- reverse(0) ➞ &quot;boolean expected&quot;\n",
        "\n",
        "3. Create a function that returns the thickness (in meters) of a piece of paper after folding it n\n",
        "number of times. The paper starts off with a thickness of 0.5mm.\n",
        "> Examples\n",
        ">- num_layers(1) ➞ &quot;0.001m&quot;\n",
        ">>  Paper folded once is 1mm (equal to 0.001m)\n",
        ">- num_layers(4) ➞ &quot;0.008m&quot;\n",
        ">>  Paper folded 4 times is 8mm (equal to 0.008m)\n",
        ">- num_layers(21) ➞ &quot;1048.576m&quot;\n",
        ">>  Paper folded 21 times is 1048576mm (equal to 1048.576m)\n",
        "\n",
        "4. Create a function that takes a single string as argument and returns an ordered list containing\n",
        "the indices of all capital letters in the string.\n",
        "> Examples\n",
        ">- index_of_caps(&quot;eDaBiT&quot;) ➞ [1, 3, 5]\n",
        ">- index_of_caps(&quot;eQuINoX&quot;) ➞ [1, 3, 4, 6]\n",
        ">- index_of_caps(&quot;determine&quot;) ➞ []\n",
        ">- index_of_caps(&quot;STRIKE&quot;) ➞ [0, 1, 2, 3, 4, 5]\n",
        ">- index_of_caps(&quot;sUn&quot;) ➞ [1]\n",
        "\n",
        "\n",
        "5. Using list comprehensions, create a function that finds all even numbers from 1 to the given\n",
        "number.\n",
        "- Examples\n",
        ">- find_even_nums(8) ➞ [2, 4, 6, 8]\n",
        ">- find_even_nums(4) ➞ [2, 4]\n",
        ">- find_even_nums(2) ➞ [2]"
      ],
      "metadata": {
        "id": "b_fI8cRydkMf"
      }
    },
    {
      "cell_type": "code",
      "source": [
        "# ques 1\n",
        "\n",
        "def double_char(string):\n",
        "    s = ''\n",
        "    for i in range(len(string)):\n",
        "      s += string[i]+string[i]\n",
        "    return s\n",
        "double_char(\"String\")      "
      ],
      "metadata": {
        "colab": {
          "base_uri": "https://localhost:8080/",
          "height": 36
        },
        "id": "foWyLkyUd-vR",
        "outputId": "b525de35-c2c8-49fa-9ec7-cc0da75e0516"
      },
      "execution_count": 3,
      "outputs": [
        {
          "output_type": "execute_result",
          "data": {
            "text/plain": [
              "'SSttrriinngg'"
            ],
            "application/vnd.google.colaboratory.intrinsic+json": {
              "type": "string"
            }
          },
          "metadata": {},
          "execution_count": 3
        }
      ]
    },
    {
      "cell_type": "code",
      "source": [
        "# ques 2\n",
        "\n",
        "def reverse(boolean):\n",
        "  if type(boolean)==bool:\n",
        "    if True != boolean:\n",
        "      return True\n",
        "    else:\n",
        "      return False  \n",
        "  else:\n",
        "    return \"boolean expected\"\n",
        "\n",
        "reverse(False) "
      ],
      "metadata": {
        "colab": {
          "base_uri": "https://localhost:8080/"
        },
        "id": "-iTBhjt6Ueyc",
        "outputId": "04555b00-13d2-4967-8cf7-a931778ded6d"
      },
      "execution_count": 9,
      "outputs": [
        {
          "output_type": "execute_result",
          "data": {
            "text/plain": [
              "True"
            ]
          },
          "metadata": {},
          "execution_count": 9
        }
      ]
    },
    {
      "cell_type": "code",
      "source": [
        "# ques 3\n",
        "def num_layers(layer):\n",
        "  folds = 2**(layer-1)/1000\n",
        "  return folds\n",
        "\n",
        "num_layers(21)\n"
      ],
      "metadata": {
        "colab": {
          "base_uri": "https://localhost:8080/"
        },
        "id": "ZT8UNHu9VzOf",
        "outputId": "a3130d88-9f85-4e1c-ba2c-383a056c659e"
      },
      "execution_count": 12,
      "outputs": [
        {
          "output_type": "execute_result",
          "data": {
            "text/plain": [
              "1048.576"
            ]
          },
          "metadata": {},
          "execution_count": 12
        }
      ]
    },
    {
      "cell_type": "code",
      "source": [
        "# ques 4\n",
        "\n",
        "def index_of_caps(string):\n",
        "  l = []\n",
        "  for i in range(len(string)):\n",
        "    if string[i].isupper() :\n",
        "      l.append(i)\n",
        "  return l    \n",
        "index_of_caps(\"eDaBiT\")"
      ],
      "metadata": {
        "colab": {
          "base_uri": "https://localhost:8080/"
        },
        "id": "zOMYaBMMcH9r",
        "outputId": "af46bbce-dc3c-4e73-c06b-1bc7624e1055"
      },
      "execution_count": 14,
      "outputs": [
        {
          "output_type": "execute_result",
          "data": {
            "text/plain": [
              "[1, 3, 5]"
            ]
          },
          "metadata": {},
          "execution_count": 14
        }
      ]
    },
    {
      "cell_type": "code",
      "source": [
        "# ques 5\n",
        "\n",
        "def find_even_nums(num):\n",
        "  return [i for i in range(1,num+1) if i%2==0]\n",
        "\n",
        "\n",
        "find_even_nums(8)"
      ],
      "metadata": {
        "colab": {
          "base_uri": "https://localhost:8080/"
        },
        "id": "w7D9w2IxdyVn",
        "outputId": "fc0a0a59-6845-46f1-b306-6c9304a0d571"
      },
      "execution_count": 19,
      "outputs": [
        {
          "output_type": "execute_result",
          "data": {
            "text/plain": [
              "[2, 4, 6, 8]"
            ]
          },
          "metadata": {},
          "execution_count": 19
        }
      ]
    },
    {
      "cell_type": "code",
      "source": [],
      "metadata": {
        "id": "6JE4V70Eeje9"
      },
      "execution_count": null,
      "outputs": []
    }
  ]
}