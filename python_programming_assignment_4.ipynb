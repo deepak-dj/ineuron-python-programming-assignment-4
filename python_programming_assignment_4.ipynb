{
  "nbformat": 4,
  "nbformat_minor": 0,
  "metadata": {
    "colab": {
      "provenance": [],
      "collapsed_sections": []
    },
    "kernelspec": {
      "name": "python3",
      "display_name": "Python 3"
    },
    "language_info": {
      "name": "python"
    }
  },
  "cells": [
    {
      "cell_type": "code",
      "execution_count": null,
      "metadata": {
        "id": "A-QwvriytLam"
      },
      "outputs": [],
      "source": []
    },
    {
      "cell_type": "markdown",
      "source": [
        "1. Write a Python Program to Find the Factorial of a Number?\n",
        "2. Write a Python Program to Display the multiplication Table?\n",
        "3. Write a Python Program to Print the Fibonacci sequence?\n",
        "4. Write a Python Program to Check Armstrong Number?\n",
        "5. Write a Python Program to Find Armstrong Number in an Interval?\n",
        "6. Write a Python Program to Find the Sum of Natural Numbers?"
      ],
      "metadata": {
        "id": "gq3aJlGDfv0x"
      }
    },
    {
      "cell_type": "code",
      "source": [
        "# ques 1\n",
        "\n",
        "def fact(num):\n",
        "  if num == 0 or num == 1:\n",
        "    return 1\n",
        "  elif num>1: \n",
        "    return num*fact(num-1)\n",
        "fact(4)     "
      ],
      "metadata": {
        "colab": {
          "base_uri": "https://localhost:8080/"
        },
        "id": "2JYfOxzrfxNa",
        "outputId": "158c0427-030a-4a45-e0fc-f4e328e73952"
      },
      "execution_count": null,
      "outputs": [
        {
          "output_type": "execute_result",
          "data": {
            "text/plain": [
              "24"
            ]
          },
          "metadata": {},
          "execution_count": 8
        }
      ]
    },
    {
      "cell_type": "code",
      "source": [
        "# ques 2\n",
        "\n",
        "def table(num):\n",
        "   for i in range(1,11):\n",
        "     t = i*num\n",
        "     print(f'{num}x{i} = {t}')\n",
        "table(2)     \n"
      ],
      "metadata": {
        "colab": {
          "base_uri": "https://localhost:8080/"
        },
        "id": "eBVNV0tBfyXQ",
        "outputId": "79f906f6-4494-458b-e79e-5149aad886c0"
      },
      "execution_count": null,
      "outputs": [
        {
          "output_type": "stream",
          "name": "stdout",
          "text": [
            "2x1 = 2\n",
            "2x2 = 4\n",
            "2x3 = 6\n",
            "2x4 = 8\n",
            "2x5 = 10\n",
            "2x6 = 12\n",
            "2x7 = 14\n",
            "2x8 = 16\n",
            "2x9 = 18\n",
            "2x10 = 20\n"
          ]
        }
      ]
    },
    {
      "cell_type": "code",
      "source": [
        "# ques 3\n",
        "\n",
        "def fibon(num):\n",
        "\n",
        " for i in range(num):\n",
        "    if num == 0:\n",
        "      return (0)\n",
        "    elif num == 1 or num == 2:\n",
        "      return(1)\n",
        "    else:    \n",
        "       return fibon(num-1)+fibon(num-2)\n",
        "\n",
        "f = fibon(4)\n",
        "print(f)\n",
        "     "
      ],
      "metadata": {
        "colab": {
          "base_uri": "https://localhost:8080/"
        },
        "id": "2aKn8osKg-NS",
        "outputId": "4c27275c-b6db-478e-c43e-563e2458fd1e"
      },
      "execution_count": 12,
      "outputs": [
        {
          "output_type": "stream",
          "name": "stdout",
          "text": [
            "3\n"
          ]
        }
      ]
    },
    {
      "cell_type": "code",
      "source": [
        "# ques 4\n",
        "\n",
        "def armstrong(num):\n",
        "  if type(num)==int:\n",
        "    x = 0\n",
        "    l = len(str(num))\n",
        "    for i in str(num):\n",
        "      x += int(i)**l\n",
        "    return x\n",
        "  else:\n",
        "    return 'invalid input'  \n",
        "\n",
        "armstrong(153)  \n",
        "\n",
        "\n"
      ],
      "metadata": {
        "id": "3yMS5sK18wRG",
        "colab": {
          "base_uri": "https://localhost:8080/"
        },
        "outputId": "6832784c-60d6-49f3-cbe4-ad66c32d37c0"
      },
      "execution_count": 44,
      "outputs": [
        {
          "output_type": "execute_result",
          "data": {
            "text/plain": [
              "153"
            ]
          },
          "metadata": {},
          "execution_count": 44
        }
      ]
    },
    {
      "cell_type": "code",
      "source": [
        "#ques 5\n",
        "\n",
        "def armstrong1(num1,num2):\n",
        "  l = []\n",
        "  for i in range(num1,num2+1):\n",
        "    if i == armstrong(i):\n",
        "      l.append(armstrong(i))\n",
        "  return l\n",
        "    \n",
        "\n",
        "\n",
        "armstrong1(1,1000)  "
      ],
      "metadata": {
        "id": "yfFqOHgPyt0l",
        "colab": {
          "base_uri": "https://localhost:8080/"
        },
        "outputId": "cba3eedd-2db4-4a9a-c0e3-111b76a24db6"
      },
      "execution_count": 45,
      "outputs": [
        {
          "output_type": "execute_result",
          "data": {
            "text/plain": [
              "[1, 2, 3, 4, 5, 6, 7, 8, 9, 153, 370, 371, 407]"
            ]
          },
          "metadata": {},
          "execution_count": 45
        }
      ]
    },
    {
      "cell_type": "code",
      "source": [
        "# ques 6\n",
        "\n",
        "def sum(num):\n",
        "  n = 0\n",
        "  for i in range(num+1):\n",
        "    n += i\n",
        "  return n\n",
        "sum(16)\n"
      ],
      "metadata": {
        "colab": {
          "base_uri": "https://localhost:8080/"
        },
        "id": "k2GgFtpFxVd0",
        "outputId": "cc9d6cc1-478e-4c9b-8f53-69205dc501c8"
      },
      "execution_count": 49,
      "outputs": [
        {
          "output_type": "execute_result",
          "data": {
            "text/plain": [
              "136"
            ]
          },
          "metadata": {},
          "execution_count": 49
        }
      ]
    },
    {
      "cell_type": "code",
      "source": [],
      "metadata": {
        "id": "d1bG4s4IzzNb"
      },
      "execution_count": null,
      "outputs": []
    }
  ]
}