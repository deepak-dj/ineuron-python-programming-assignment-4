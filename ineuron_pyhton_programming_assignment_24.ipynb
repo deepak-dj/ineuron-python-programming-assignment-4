{
  "nbformat": 4,
  "nbformat_minor": 0,
  "metadata": {
    "colab": {
      "provenance": [],
      "collapsed_sections": []
    },
    "kernelspec": {
      "name": "python3",
      "display_name": "Python 3"
    },
    "language_info": {
      "name": "python"
    }
  },
  "cells": [
    {
      "cell_type": "markdown",
      "source": [
        "#Python Programme Assignment 24"
      ],
      "metadata": {
        "id": "v_moLGiSH57q"
      }
    },
    {
      "cell_type": "markdown",
      "source": [
        "1. Create a function that takes an integer and returns a list from 1 to the given number, where:\n",
        "- 1=> If the number can be divided evenly by 4, amplify it by 10 (i.e. return 10 times the\n",
        "number).\n",
        "- 2 => If the number cannot be divided evenly by 4, simply return the number.\n",
        "- Examples\n",
        "> amplify(4) ➞ [1, 2, 3, 40]\n",
        "\n",
        "> Notes\n",
        "- The given integer will always be equal to or greater than 1.\n",
        "- Include the number (see example above).\n",
        "- To perform this problem with its intended purpose, try doing it with list\n",
        "comprehensions. If that&#39;s too difficult, just solve the challenge any way you can.\n",
        "\n",
        "\n",
        "2. Create a function that takes a list of numbers and return the number that&#39;s unique.\n",
        "- Examples\n",
        "> unique([3, 3, 3, 7, 3, 3]) ➞ 7\n",
        "\n",
        "- Notes\n",
        "> Test cases will always have exactly one unique number while all others are the same.\n",
        "\n",
        "3. Your task is to create a Circle constructor that creates a circle with a radius provided by an\n",
        "argument. The circles constructed must have two getters getArea() (PIr^2) and\n",
        "getPerimeter() (2PI*r) which give both respective areas and perimeter (circumference).\n",
        "\n",
        "- For help with this class, I have provided you with a Rectangle constructor which you can use\n",
        "as a base example.\n",
        "- Examples\n",
        "> circy = Circle(11)\n",
        "> circy.getArea()\n",
        "\n",
        "4. Create a function that takes a list of strings and return a list, sorted from shortest to longest. \n",
        "\n",
        "- Examples\n",
        "> sort_by_length([&quot;Google&quot;, &quot;Apple&quot;, &quot;Microsoft&quot;])\n",
        "➞ [&quot;Apple&quot;, &quot;Google&quot;, &quot;Microsoft&quot;]\n",
        "\n",
        "- Notes\n",
        "> All test cases contain lists with strings of different lengths, so you won&#39;t have to deal with\n",
        "multiple strings of the same length.\n",
        "\n",
        "5. Create a function that validates whether three given integers form a Pythagorean triplet. The\n",
        "sum of the squares of the two smallest integers must equal the square of the largest number to\n",
        "be validated.\n",
        "\n",
        "- Examples\n",
        "> is_triplet(3, 4, 5) ➞ True\n",
        "\n",
        "- Notes\n",
        "> Numbers may not be given in a sorted order."
      ],
      "metadata": {
        "id": "nYe-gnG005D7"
      }
    },
    {
      "cell_type": "markdown",
      "source": [],
      "metadata": {
        "id": "s_-zwiDfIANK"
      }
    },
    {
      "cell_type": "code",
      "source": [
        "# ques 1\n",
        "\n",
        "def amplify(num):\n",
        "  l=[]\n",
        "\n",
        "  try:\n",
        "    if num>=1 and type(num)==int:\n",
        "      l = [i*10 if i%4==0 else i for i in range(1,1+num)]\n",
        "  except :\n",
        "    return 'invalid input : input must be integer'\n",
        "  return l      \n",
        "\n",
        "\n",
        "amplify('4')"
      ],
      "metadata": {
        "colab": {
          "base_uri": "https://localhost:8080/",
          "height": 36
        },
        "id": "5YrZrPCyH_kJ",
        "outputId": "ad5c8ba9-6c1a-4700-fa23-8df55c537921"
      },
      "execution_count": 77,
      "outputs": [
        {
          "output_type": "execute_result",
          "data": {
            "text/plain": [
              "'invalid input : input must be integer'"
            ],
            "application/vnd.google.colaboratory.intrinsic+json": {
              "type": "string"
            }
          },
          "metadata": {},
          "execution_count": 77
        }
      ]
    },
    {
      "cell_type": "code",
      "source": [
        "amplify(4)"
      ],
      "metadata": {
        "colab": {
          "base_uri": "https://localhost:8080/"
        },
        "id": "qeqBR8bp85yw",
        "outputId": "8a8013d0-eb1b-4a7c-89b4-5678ca4ad792"
      },
      "execution_count": 76,
      "outputs": [
        {
          "output_type": "execute_result",
          "data": {
            "text/plain": [
              "[1, 2, 3, 40]"
            ]
          },
          "metadata": {},
          "execution_count": 76
        }
      ]
    },
    {
      "cell_type": "code",
      "source": [
        "# ques 2\n",
        "\n",
        "def unique(l):\n",
        "  c = 0\n",
        "  for i in l:\n",
        "    if l.count(i)>1:\n",
        "      c+=1\n",
        "  if c == len(l)-1:\n",
        "    for i in l:\n",
        "      if l.count(i)==1:\n",
        "        print(f'correct input list : {l} and unique number is : ',end='')\n",
        "        return i\n",
        "  else:\n",
        "    print(f'incorrect input list : {l},',end=' ')  \n",
        "    return 'enter correct list, Only one number must be unique'\n",
        "\n",
        "      \n",
        "\n",
        "    \n",
        "\n",
        "unique([3, 3, 3, 7, 3, 3, 4])"
      ],
      "metadata": {
        "colab": {
          "base_uri": "https://localhost:8080/",
          "height": 36
        },
        "id": "27L3LSCyIpXk",
        "outputId": "0d246d10-17e3-4a1d-877d-2f72237d35f5"
      },
      "execution_count": 75,
      "outputs": [
        {
          "output_type": "stream",
          "name": "stdout",
          "text": [
            "incorrect input list : [3, 3, 3, 7, 3, 3, 4], "
          ]
        },
        {
          "output_type": "execute_result",
          "data": {
            "text/plain": [
              "'enter correct list, Only one number must be unique'"
            ],
            "application/vnd.google.colaboratory.intrinsic+json": {
              "type": "string"
            }
          },
          "metadata": {},
          "execution_count": 75
        }
      ]
    },
    {
      "cell_type": "code",
      "source": [
        "unique([3, 3, 3, 7, 3, 3, 3])"
      ],
      "metadata": {
        "colab": {
          "base_uri": "https://localhost:8080/"
        },
        "id": "_3l7u9EZ8wbi",
        "outputId": "127d18ef-26e6-4d00-9772-682abd8e16ff"
      },
      "execution_count": 73,
      "outputs": [
        {
          "output_type": "stream",
          "name": "stdout",
          "text": [
            "correct input list : [3, 3, 3, 7, 3, 3, 3] and unique number is : "
          ]
        },
        {
          "output_type": "execute_result",
          "data": {
            "text/plain": [
              "7"
            ]
          },
          "metadata": {},
          "execution_count": 73
        }
      ]
    },
    {
      "cell_type": "code",
      "source": [
        "# ques 3\n",
        "\n",
        "import math\n",
        "\n",
        "class Circle():\n",
        "  def __init__(self,radius):\n",
        "    self.radius = radius\n",
        "\n",
        "  def getArea(self):\n",
        "    return round((math.pi)*(self.radius**2))  \n",
        "\n",
        "  def getPerimeter(self):\n",
        "    return round(2*math.pi*self.radius)  \n",
        "\n",
        "\n",
        "\n",
        "\n",
        "circy = Circle(11)\n",
        "circy.getArea()"
      ],
      "metadata": {
        "colab": {
          "base_uri": "https://localhost:8080/"
        },
        "id": "zvAYkHI9J0_D",
        "outputId": "e14535d8-a2a4-426e-8ee9-18d1da8750eb"
      },
      "execution_count": 74,
      "outputs": [
        {
          "output_type": "execute_result",
          "data": {
            "text/plain": [
              "380"
            ]
          },
          "metadata": {},
          "execution_count": 74
        }
      ]
    },
    {
      "cell_type": "code",
      "source": [
        "circy = Circle(4.44)\n",
        "circy.getPerimeter()"
      ],
      "metadata": {
        "colab": {
          "base_uri": "https://localhost:8080/"
        },
        "id": "cdZTnYmkO0nc",
        "outputId": "bb237be0-33a5-4d61-fee3-080681db7ffb"
      },
      "execution_count": 31,
      "outputs": [
        {
          "output_type": "execute_result",
          "data": {
            "text/plain": [
              "28"
            ]
          },
          "metadata": {},
          "execution_count": 31
        }
      ]
    },
    {
      "cell_type": "code",
      "source": [
        "# ques 4  \n",
        "\n",
        "def sort_by_length(l):\n",
        "  len_list=[]\n",
        "  for i in l:\n",
        "    len_list.append(len(i))\n",
        "    for j in len_list:\n",
        "      if len_list.count(j)==1:\n",
        "        m = sorted(l,key=len)   \n",
        "      else:\n",
        "        return 'invalid input : length of two strings in the list must not be same'   \n",
        "  return m\n",
        "\n",
        "\n",
        "\n",
        "\n",
        "sort_by_length(['Google', 'Apple', 'Microsoft','Amazon'])\n",
        "\n",
        "  \n",
        "\n"
      ],
      "metadata": {
        "colab": {
          "base_uri": "https://localhost:8080/",
          "height": 36
        },
        "id": "7Dy6Y5ItPEnJ",
        "outputId": "68e7855f-3d83-4452-b6fa-f2ed7ee2a2ec"
      },
      "execution_count": 78,
      "outputs": [
        {
          "output_type": "execute_result",
          "data": {
            "text/plain": [
              "'invalid input : length of two strings in the list must not be same'"
            ],
            "application/vnd.google.colaboratory.intrinsic+json": {
              "type": "string"
            }
          },
          "metadata": {},
          "execution_count": 78
        }
      ]
    },
    {
      "cell_type": "code",
      "source": [
        "\n",
        "sort_by_length(['Google', 'Apple', 'Microsoft'])"
      ],
      "metadata": {
        "colab": {
          "base_uri": "https://localhost:8080/"
        },
        "id": "ILHwkQ6u8mKT",
        "outputId": "a7b93c5f-d6b5-4ac1-dfa8-b0e7d366d68f"
      },
      "execution_count": 69,
      "outputs": [
        {
          "output_type": "execute_result",
          "data": {
            "text/plain": [
              "['Apple', 'Google', 'Microsoft']"
            ]
          },
          "metadata": {},
          "execution_count": 69
        }
      ]
    },
    {
      "cell_type": "code",
      "source": [
        "# ques 5\n",
        "\n",
        "def is_triplet(p,b,h):\n",
        "  if h > p and h > b:\n",
        "    if h**2 == (b**2 + (p**2)):\n",
        "      return True\n",
        "    return False\n",
        "  elif p>h and p>b:\n",
        "    if p**2 == (b**2 + (h**2)):\n",
        "      return True\n",
        "    return False\n",
        "  elif b>h and b>p:\n",
        "    if b**2 == (p**2 + (h**2)):\n",
        "      return True\n",
        "    return False\n",
        "    \n",
        "\n",
        "\n",
        "\n",
        "\n",
        "is_triplet(3, 4, 5)"
      ],
      "metadata": {
        "colab": {
          "base_uri": "https://localhost:8080/"
        },
        "id": "rCxH7a8oREXG",
        "outputId": "389a67b1-34a6-4cbc-d09a-2127db971557"
      },
      "execution_count": 65,
      "outputs": [
        {
          "output_type": "execute_result",
          "data": {
            "text/plain": [
              "True"
            ]
          },
          "metadata": {},
          "execution_count": 65
        }
      ]
    },
    {
      "cell_type": "code",
      "source": [
        "\n",
        "\n",
        "\n"
      ],
      "metadata": {
        "colab": {
          "base_uri": "https://localhost:8080/"
        },
        "id": "GIcgl8JVUzH1",
        "outputId": "4b92f585-c80e-465d-94ea-945db46836a9"
      },
      "execution_count": 28,
      "outputs": [
        {
          "output_type": "execute_result",
          "data": {
            "text/plain": [
              "['Apple', 'Google', 'Microsoft']"
            ]
          },
          "metadata": {},
          "execution_count": 28
        }
      ]
    },
    {
      "cell_type": "code",
      "source": [],
      "metadata": {
        "id": "ehLqCJ_h0k73"
      },
      "execution_count": null,
      "outputs": []
    }
  ]
}