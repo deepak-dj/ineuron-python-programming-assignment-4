{
  "nbformat": 4,
  "nbformat_minor": 0,
  "metadata": {
    "colab": {
      "provenance": []
    },
    "kernelspec": {
      "name": "python3",
      "display_name": "Python 3"
    },
    "language_info": {
      "name": "python"
    }
  },
  "cells": [
    {
      "cell_type": "markdown",
      "source": [
        "# Python Programming Assignment 7"
      ],
      "metadata": {
        "id": "Z3t9RRpQSoKU"
      }
    },
    {
      "cell_type": "markdown",
      "source": [
        "1. Write a Python Program to find sum of array?\n",
        "2. Write a Python Program to find largest element in an array?\n",
        "3. Write a Python Program for array rotation?\n",
        "4. Write a Python Program to Split the array and add the first part to the end?\n",
        "5. Write a Python Program to check if given array is Monotonic?"
      ],
      "metadata": {
        "id": "MtfcdOeiSmlo"
      }
    },
    {
      "cell_type": "code",
      "source": [
        "# ques 1\n",
        "l1 = [1,2,3,4]\n",
        "l2 = [6,7,8,9]\n",
        "print(f'{l1}+{l2} = {l1 + l2}')"
      ],
      "metadata": {
        "colab": {
          "base_uri": "https://localhost:8080/"
        },
        "id": "R3Gh4at1SnG8",
        "outputId": "d34c6560-ec24-4185-c8c7-67825efc5280"
      },
      "execution_count": 1,
      "outputs": [
        {
          "output_type": "stream",
          "name": "stdout",
          "text": [
            "[1, 2, 3, 4]+[6, 7, 8, 9] = [1, 2, 3, 4, 6, 7, 8, 9]\n"
          ]
        }
      ]
    },
    {
      "cell_type": "code",
      "source": [
        "# ques 2\n",
        "\n",
        "l = [22,34,55,96,70,0,10]\n",
        "max = 0\n",
        "for i in l1:\n",
        "   if i>max:\n",
        "     max = i\n",
        "print(max)     \n"
      ],
      "metadata": {
        "colab": {
          "base_uri": "https://localhost:8080/"
        },
        "id": "91fcQ3RFTOAh",
        "outputId": "7e9abf1a-d28a-4cf5-a7c4-e456e3a40918"
      },
      "execution_count": 4,
      "outputs": [
        {
          "output_type": "stream",
          "name": "stdout",
          "text": [
            "96\n"
          ]
        }
      ]
    },
    {
      "cell_type": "code",
      "source": [
        "# ques 3\n",
        "\n",
        "l = [1,2,3,4,5,6,7,8,9]\n",
        "print(l[::-1])\n"
      ],
      "metadata": {
        "colab": {
          "base_uri": "https://localhost:8080/"
        },
        "id": "TFyBOBKjTadv",
        "outputId": "359f23a4-392a-4a2a-90d4-7737b894b02a"
      },
      "execution_count": 5,
      "outputs": [
        {
          "output_type": "stream",
          "name": "stdout",
          "text": [
            "[9, 8, 7, 6, 5, 4, 3, 2, 1]\n"
          ]
        }
      ]
    },
    {
      "cell_type": "code",
      "source": [
        "# ques 4\n",
        "l = [1,2,3,4,5,6,7,8,9]\n",
        "length = len(l)\n",
        "print(f'splitting the array {l}')\n",
        "split_1 = l[:round(length/2)]\n",
        "\n",
        "del(l[:round(length/2)])     \n",
        "\n",
        "l.extend(split_1)\n",
        "print(f' and adding the 1st split {split_1} to the end of original list is : {l}')\n"
      ],
      "metadata": {
        "colab": {
          "base_uri": "https://localhost:8080/"
        },
        "id": "6h4SLPrNT49i",
        "outputId": "fb3773d8-5a30-4c45-c400-f11f89c8eea9"
      },
      "execution_count": 20,
      "outputs": [
        {
          "output_type": "stream",
          "name": "stdout",
          "text": [
            "splitting the array [1, 2, 3, 4, 5, 6, 7, 8, 9]\n",
            " and adding the 1st split [1, 2, 3, 4] to the end of original list is : [5, 6, 7, 8, 9, 1, 2, 3, 4]\n"
          ]
        }
      ]
    },
    {
      "cell_type": "code",
      "source": [
        "# ques 5\n",
        "\n",
        "\n",
        "def monotonic(l):\n",
        "  for i in range(len(l)-1):\n",
        "    if i < len(l): \n",
        "      if l[i]<= l[i+1]:\n",
        "        return f'the given input array {l} is monotonic'\n",
        "      else:\n",
        "        return f'the given input array {l} is not monotonic'  \n",
        "\n",
        "l = [1,2,4,5,6,7,9]\n",
        "l1 = [5,2,1,5,66,7,10]\n",
        "print(monotonic(l))   \n",
        "print(monotonic(l1))"
      ],
      "metadata": {
        "colab": {
          "base_uri": "https://localhost:8080/"
        },
        "id": "jB02-yxCUHW3",
        "outputId": "a7b7025d-119c-48d7-a74e-f480516b216b"
      },
      "execution_count": 36,
      "outputs": [
        {
          "output_type": "stream",
          "name": "stdout",
          "text": [
            "the given input array [1, 2, 4, 5, 6, 7, 9] is monotonic\n",
            "the given input array [5, 2, 1, 5, 66, 7, 10] is not monotonic\n"
          ]
        }
      ]
    },
    {
      "cell_type": "code",
      "source": [],
      "metadata": {
        "id": "-AV3at2HZefe"
      },
      "execution_count": null,
      "outputs": []
    },
    {
      "cell_type": "code",
      "source": [],
      "metadata": {
        "id": "lv4ceOq-cKGI"
      },
      "execution_count": null,
      "outputs": []
    }
  ]
}