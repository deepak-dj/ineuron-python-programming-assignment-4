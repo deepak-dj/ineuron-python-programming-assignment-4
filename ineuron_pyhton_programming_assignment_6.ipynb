{
  "nbformat": 4,
  "nbformat_minor": 0,
  "metadata": {
    "colab": {
      "provenance": [],
      "collapsed_sections": []
    },
    "kernelspec": {
      "name": "python3",
      "display_name": "Python 3"
    },
    "language_info": {
      "name": "python"
    }
  },
  "cells": [
    {
      "cell_type": "code",
      "execution_count": null,
      "metadata": {
        "id": "2U30zd6eKOk9"
      },
      "outputs": [],
      "source": []
    },
    {
      "cell_type": "markdown",
      "source": [
        "1. Write a Python Program to Display Fibonacci Sequence Using Recursion?\n",
        "2. Write a Python Program to Find Factorial of Number Using Recursion?\n",
        "3. Write a Python Program to calculate your Body Mass Index?\n",
        "4. Write a Python Program to calculate the natural logarithm of any number?\n",
        "5. Write a Python Program for cube sum of first n natural numbers?"
      ],
      "metadata": {
        "id": "OQ6oOVx7KSjY"
      }
    },
    {
      "cell_type": "code",
      "source": [
        "# ques 1\n",
        "\n",
        "def febonacci(num):\n",
        " for i in range(num):\n",
        "    if num == 0:\n",
        "      return (0)\n",
        "    elif num == 1 or num == 2:\n",
        "      return(1)\n",
        "    else:    \n",
        "       return febonacci(num-1)+febonacci(num-2)\n",
        "\n",
        "f = febonacci(10)\n",
        "print(f)"
      ],
      "metadata": {
        "colab": {
          "base_uri": "https://localhost:8080/"
        },
        "id": "ZVhWMz_xKWxj",
        "outputId": "3e38d6be-5efc-4bc0-9b15-ca8edbbdf580"
      },
      "execution_count": 1,
      "outputs": [
        {
          "output_type": "stream",
          "name": "stdout",
          "text": [
            "55\n"
          ]
        }
      ]
    },
    {
      "cell_type": "code",
      "source": [
        "# ques 2\n",
        "\n",
        "def fact(num):\n",
        "  if num == 0:\n",
        "    return 1\n",
        "  else:\n",
        "    return num*fact(num-1)  \n",
        "\n",
        "fact(5)    \n"
      ],
      "metadata": {
        "colab": {
          "base_uri": "https://localhost:8080/"
        },
        "id": "G_PC0ZRSKd3r",
        "outputId": "45534425-fe35-4b7c-9478-fcd0daa51f43"
      },
      "execution_count": 5,
      "outputs": [
        {
          "output_type": "execute_result",
          "data": {
            "text/plain": [
              "120"
            ]
          },
          "metadata": {},
          "execution_count": 5
        }
      ]
    },
    {
      "cell_type": "code",
      "source": [
        "# ques 3\n",
        "''' Formula to find Body mass index is\n",
        "Formula: weight (kg) / [height (m)]^2\n",
        "'''\n",
        "\n",
        "def bmindex(wt,ht):\n",
        "  return f'body mass index of weight {wt} and height {ht} is : {(wt/(ht)**2):.2f}'\n",
        "\n",
        "bmindex(68,1.65)  "
      ],
      "metadata": {
        "colab": {
          "base_uri": "https://localhost:8080/",
          "height": 35
        },
        "id": "EwOqrUCBK7L3",
        "outputId": "5d93f8ff-c567-4642-ceb8-2b160c8e8ced"
      },
      "execution_count": 20,
      "outputs": [
        {
          "output_type": "execute_result",
          "data": {
            "text/plain": [
              "'body mass index of weight 68 and height 1.65 is : 24.98'"
            ],
            "application/vnd.google.colaboratory.intrinsic+json": {
              "type": "string"
            }
          },
          "metadata": {},
          "execution_count": 20
        }
      ]
    },
    {
      "cell_type": "code",
      "source": [
        "# ques 4\n",
        "import math\n",
        "def logrithm(num):\n",
        "  return f'lorithm of number {num} is : {math.log(num):.2f}'\n",
        "logrithm(14)"
      ],
      "metadata": {
        "colab": {
          "base_uri": "https://localhost:8080/",
          "height": 35
        },
        "id": "h9LgUSClLKMV",
        "outputId": "cb90f523-3cff-4cfe-9431-9b97e61218a0"
      },
      "execution_count": 22,
      "outputs": [
        {
          "output_type": "execute_result",
          "data": {
            "text/plain": [
              "'lorithm of number 14 is : 2.64'"
            ],
            "application/vnd.google.colaboratory.intrinsic+json": {
              "type": "string"
            }
          },
          "metadata": {},
          "execution_count": 22
        }
      ]
    },
    {
      "cell_type": "code",
      "source": [
        "# ques 5\n",
        "\n",
        "def cube_sum(num):\n",
        "  n = 0\n",
        "  for i in range(num):\n",
        "    n += i**3\n",
        "  return n\n",
        "\n",
        "cube_sum(4)  \n"
      ],
      "metadata": {
        "colab": {
          "base_uri": "https://localhost:8080/"
        },
        "id": "-_xp71srLSSB",
        "outputId": "d5f223ef-1256-4cd1-9ddd-777287119602"
      },
      "execution_count": 12,
      "outputs": [
        {
          "output_type": "execute_result",
          "data": {
            "text/plain": [
              "36"
            ]
          },
          "metadata": {},
          "execution_count": 12
        }
      ]
    },
    {
      "cell_type": "code",
      "source": [],
      "metadata": {
        "id": "0Uf9i9EcLsJm"
      },
      "execution_count": 12,
      "outputs": []
    }
  ]
}