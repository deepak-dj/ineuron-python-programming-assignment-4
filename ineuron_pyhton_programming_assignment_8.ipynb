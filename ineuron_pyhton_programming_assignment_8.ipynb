{
  "nbformat": 4,
  "nbformat_minor": 0,
  "metadata": {
    "colab": {
      "provenance": []
    },
    "kernelspec": {
      "name": "python3",
      "display_name": "Python 3"
    },
    "language_info": {
      "name": "python"
    }
  },
  "cells": [
    {
      "cell_type": "markdown",
      "source": [
        "# Python Programming Assignment 8"
      ],
      "metadata": {
        "id": "p1MEezfinLKY"
      }
    },
    {
      "cell_type": "markdown",
      "source": [
        "1. Write a Python Program to Add Two Matrices?\n",
        "2. Write a Python Program to Multiply Two Matrices?\n",
        "3. Write a Python Program to Transpose a Matrix?\n",
        "4. Write a Python Program to Sort Words in Alphabetic Order?\n",
        "5. Write a Python Program to Remove Punctuation From a String?\n"
      ],
      "metadata": {
        "id": "ULovzfnTnHOf"
      }
    },
    {
      "cell_type": "code",
      "source": [
        "# ques 1\n",
        "import numpy as np\n",
        "\n",
        "a1 = np.matrix('1,2,3;4,5,6;7,8,9')\n",
        "a2 = np.matrix('3,4,5;8,9,10;4,2,3')\n",
        "\n",
        "print(a1)\n",
        "print()\n",
        "print('     +')\n",
        "print()\n",
        "print(a2)\n",
        "print()\n",
        "print('     =')\n",
        "print()\n",
        "print(a1+a2)\n"
      ],
      "metadata": {
        "colab": {
          "base_uri": "https://localhost:8080/"
        },
        "id": "GDTQg4nlnSol",
        "outputId": "7cb29f05-fbf9-43a4-c973-2b7c33ee0d35"
      },
      "execution_count": 26,
      "outputs": [
        {
          "output_type": "stream",
          "name": "stdout",
          "text": [
            "[[1 2 3]\n",
            " [4 5 6]\n",
            " [7 8 9]]\n",
            "\n",
            "     +\n",
            "\n",
            "[[ 3  4  5]\n",
            " [ 8  9 10]\n",
            " [ 4  2  3]]\n",
            "\n",
            "     =\n",
            "\n",
            "[[ 4  6  8]\n",
            " [12 14 16]\n",
            " [11 10 12]]\n"
          ]
        }
      ]
    },
    {
      "cell_type": "code",
      "source": [
        "# ques 2\n",
        "print(a1)\n",
        "print()\n",
        "print('     *')\n",
        "print()\n",
        "print(a2)\n",
        "print()\n",
        "print('     =')\n",
        "print()\n",
        "print(a1*a2)"
      ],
      "metadata": {
        "colab": {
          "base_uri": "https://localhost:8080/"
        },
        "id": "A2tCjf8FndDl",
        "outputId": "9d2a8edf-8d8b-4f3a-c725-b0433f998ac9"
      },
      "execution_count": 25,
      "outputs": [
        {
          "output_type": "stream",
          "name": "stdout",
          "text": [
            "[[1 2 3]\n",
            " [4 5 6]\n",
            " [7 8 9]]\n",
            "\n",
            "     *\n",
            "\n",
            "[[ 3  4  5]\n",
            " [ 8  9 10]\n",
            " [ 4  2  3]]\n",
            "\n",
            "     =\n",
            "\n",
            "[[ 31  28  34]\n",
            " [ 76  73  88]\n",
            " [121 118 142]]\n"
          ]
        }
      ]
    },
    {
      "cell_type": "code",
      "source": [
        "# ques 3\n",
        "print(f'Original  matrix')\n",
        "print(a1)\n",
        "print()\n",
        "print('Transpose of matrix')\n",
        "print(a1.transpose())"
      ],
      "metadata": {
        "colab": {
          "base_uri": "https://localhost:8080/"
        },
        "id": "YsKkYZM6s2u9",
        "outputId": "e5bbb502-e885-48e9-c037-c8a116f6e947"
      },
      "execution_count": 32,
      "outputs": [
        {
          "output_type": "stream",
          "name": "stdout",
          "text": [
            "Original  matrix\n",
            "[[1 2 3]\n",
            " [4 5 6]\n",
            " [7 8 9]]\n",
            "\n",
            "Transpose of matrix\n",
            "[[1 4 7]\n",
            " [2 5 8]\n",
            " [3 6 9]]\n"
          ]
        }
      ]
    },
    {
      "cell_type": "code",
      "source": [
        "# ques 4\n",
        "def sorting(letter):\n",
        "  l =  sorted(letter)\n",
        "  return ''.join(l)\n",
        "\n",
        "S = 'shubham'\n",
        "print(f'original letter = {S}')\n",
        "print()\n",
        "print(f'sorted letter  = {sorting(S)}')  \n",
        "\n"
      ],
      "metadata": {
        "colab": {
          "base_uri": "https://localhost:8080/"
        },
        "id": "I7P3FVxStq-l",
        "outputId": "ab897832-56f2-416a-8261-cdf87bf6e066"
      },
      "execution_count": 53,
      "outputs": [
        {
          "output_type": "stream",
          "name": "stdout",
          "text": [
            "original letter = shubham\n",
            "\n",
            "sorted letter  = abhhmsu\n"
          ]
        }
      ]
    },
    {
      "cell_type": "code",
      "source": [
        "# ques 5\n",
        "\n",
        "punctuations = '''!()-[]{};:'\"\\,<>./?@#$%^&*_~'''\n",
        "\n",
        "my_str = \"Hello!!!, how are ---you $% today.\"\n",
        "s = ''\n",
        "for i in my_str:\n",
        "  if i not in punctuations:\n",
        "    s += i\n",
        "print(s)    \n",
        "\n"
      ],
      "metadata": {
        "colab": {
          "base_uri": "https://localhost:8080/"
        },
        "id": "Hp0XtApJusu5",
        "outputId": "0677d825-d748-4465-e79f-173f3bc1d099"
      },
      "execution_count": 55,
      "outputs": [
        {
          "output_type": "stream",
          "name": "stdout",
          "text": [
            "Hello how are you  today\n"
          ]
        }
      ]
    },
    {
      "cell_type": "code",
      "source": [],
      "metadata": {
        "id": "tJxK0J-SyGO5"
      },
      "execution_count": 54,
      "outputs": []
    }
  ]
}