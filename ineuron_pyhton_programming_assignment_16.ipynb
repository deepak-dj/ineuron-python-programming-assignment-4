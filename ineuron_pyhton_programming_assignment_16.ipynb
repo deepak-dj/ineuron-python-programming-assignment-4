{
  "nbformat": 4,
  "nbformat_minor": 0,
  "metadata": {
    "colab": {
      "provenance": [],
      "collapsed_sections": []
    },
    "kernelspec": {
      "name": "python3",
      "display_name": "Python 3"
    },
    "language_info": {
      "name": "python"
    }
  },
  "cells": [
    {
      "cell_type": "markdown",
      "source": [
        "# Python Programme Assignment 16"
      ],
      "metadata": {
        "id": "ZyL1hBN2P1BZ"
      }
    },
    {
      "cell_type": "markdown",
      "source": [
        "1. Write a function that stutters a word as if someone is struggling to read it. The\n",
        "first two letters are repeated twice with an ellipsis ... and space after each, and then the\n",
        "word is pronounced with a question mark ?.\n",
        "\n",
        "- Examples\n",
        ">- stutter(&quot;incredible&quot;) ➞ &quot;in... in... incredible?&quot;\n",
        ">- stutter(&quot;enthusiastic&quot;) ➞ &quot;en... en... enthusiastic?&quot;\n",
        ">- stutter(&quot;outstanding&quot;) ➞ &quot;ou... ou... outstanding?&quot;\n",
        "\n",
        "\n",
        "\n",
        "\n",
        "2. Create a function that takes an angle in radians and returns the corresponding\n",
        "angle in degrees rounded to one decimal place.\n",
        "- Examples\n",
        ">- radians_to_degrees(1) ➞ 57.3\n",
        ">- radians_to_degrees(20) ➞ 1145.9\n",
        ">- radians_to_degrees(50) ➞ 2864.8\n",
        "\n",
        "\n",
        "\n",
        "\n",
        "3. In this challenge, establish if a given integer num is a Curzon number. If 1 plus\n",
        "2 elevated to num is exactly divisible by 1 plus 2 multiplied by num, then num is a Curzon\n",
        "number.\n",
        "Given a non-negative integer num, implement a function that returns True if num is a Curzon\n",
        "number, or False otherwise.\n",
        "Examples\n",
        "- is_curzon(5) ➞ True\n",
        ">- 2 ** 5 + 1 = 33 \n",
        ">- 2 * 5 + 1 = 11\n",
        ">- 33 is a multiple of 11\n",
        "- is_curzon(10) ➞ False\n",
        ">- 2 ** 10 + 1 = 1025\n",
        ">- 2 * 10 + 1 = 21\n",
        ">- 1025 is not a multiple of 21\n",
        "-is_curzon(14) ➞ True\n",
        ">- 2 ** 14 + 1 ➞ 16385\n",
        ">- 2 * 14 + 1 29\n",
        ">- 16385 is a multiple of 29\n",
        "\n",
        "\n",
        "4. Given the side length x find the area of a hexagon.\n",
        "\n",
        "- Examples\n",
        ">- area_of_hexagon(1) ➞ 2.6\n",
        ">- area_of_hexagon(2) ➞ 10.4\n",
        ">- area_of_hexagon(3) ➞ 23.4\n",
        "\n",
        "\n",
        "\n",
        "5. Create a function that returns a base-2 (binary) representation of a base-10\n",
        "(decimal) string number. To convert is simple: ((2) means base-2 and (10) means base-10)\n",
        "010101001(2) = 1 + 8 + 32 + 128.\n",
        "Going from right to left, the value of the most right bit is 1, now from that every bit to the left\n",
        "will be x2 the value, value of an 8 bit binary numbers are (256, 128, 64, 32, 16, 8, 4, 2, 1).\n",
        "- Examples\n",
        ">- binary(1) ➞ &quot;1&quot;\n",
        ">-- # 1*1 = 1\n",
        ">- binary(5) ➞ &quot;101&quot;\n",
        ">-- # 1*1 + 1*4 = 5\n",
        ">- binary(10) ➞ &quot;1010&quot;\n",
        ">-- # 1*2 + 1*8 = 10\n"
      ],
      "metadata": {
        "id": "gSsEkPqsMDld"
      }
    },
    {
      "cell_type": "code",
      "source": [
        "# ques 1\n",
        "\n",
        "def stutter(word):\n",
        "  return (word[0]+word[1]+'.'*3)*2+word+'?'\n",
        "\n",
        "w = input('enter word : ')\n",
        "\n",
        "stutter(w)"
      ],
      "metadata": {
        "colab": {
          "base_uri": "https://localhost:8080/",
          "height": 53
        },
        "id": "2EhNgCkCRPm5",
        "outputId": "e17491da-15da-4fd2-936f-25434e8d1f0f"
      },
      "execution_count": 3,
      "outputs": [
        {
          "name": "stdout",
          "output_type": "stream",
          "text": [
            "enter word : enthusiastic\n"
          ]
        },
        {
          "output_type": "execute_result",
          "data": {
            "text/plain": [
              "'en...en...enthusiastic?'"
            ],
            "application/vnd.google.colaboratory.intrinsic+json": {
              "type": "string"
            }
          },
          "metadata": {},
          "execution_count": 3
        }
      ]
    },
    {
      "cell_type": "code",
      "source": [
        "# ques 2\n",
        "import math\n",
        "def radians_to_degrees(radian):\n",
        "  return f'{radian*(180/math.pi):.1f}'\n",
        "rad = int(input('enter radian : '))\n",
        "radians_to_degrees(rad)"
      ],
      "metadata": {
        "colab": {
          "base_uri": "https://localhost:8080/",
          "height": 53
        },
        "id": "rwS6MNeFRDwW",
        "outputId": "99e8727a-b9c4-44a5-b0e1-43ccbb4d1705"
      },
      "execution_count": 10,
      "outputs": [
        {
          "name": "stdout",
          "output_type": "stream",
          "text": [
            "enter radian : 20\n"
          ]
        },
        {
          "output_type": "execute_result",
          "data": {
            "text/plain": [
              "'1145.9'"
            ],
            "application/vnd.google.colaboratory.intrinsic+json": {
              "type": "string"
            }
          },
          "metadata": {},
          "execution_count": 10
        }
      ]
    },
    {
      "cell_type": "code",
      "source": [
        "# ques 3\n",
        "\n",
        "def is_curzon(n):\n",
        "    if (2**n+1) % (2*n+1) == 0:\n",
        "      return True\n",
        "    return False \n",
        "     \n",
        "num = int(input('enter number to check whether it is curzon number : '))\n",
        "\n",
        "is_curzon(num)\n"
      ],
      "metadata": {
        "colab": {
          "base_uri": "https://localhost:8080/"
        },
        "id": "Zlr2vfvYR0_6",
        "outputId": "9309f818-950d-4c53-ddc3-5f60c3b9ae03"
      },
      "execution_count": 14,
      "outputs": [
        {
          "name": "stdout",
          "output_type": "stream",
          "text": [
            "enter number to check whether it is curzon number : 5\n"
          ]
        },
        {
          "output_type": "execute_result",
          "data": {
            "text/plain": [
              "True"
            ]
          },
          "metadata": {},
          "execution_count": 14
        }
      ]
    },
    {
      "cell_type": "code",
      "source": [
        "# ques 4\n",
        "\n",
        "def area_hexagon(length):\n",
        "  return f'{(3*(3**(1/2))*(length**2))/2:.1f}'\n",
        "\n",
        "side = int(input('enter the length of hexagon : '))\n",
        "area_hexagon(side)  "
      ],
      "metadata": {
        "colab": {
          "base_uri": "https://localhost:8080/",
          "height": 53
        },
        "id": "i3xcYrT-UW3m",
        "outputId": "3159520c-ff62-4b30-d35d-dfca51a8882c"
      },
      "execution_count": 18,
      "outputs": [
        {
          "name": "stdout",
          "output_type": "stream",
          "text": [
            "enter the length of hexagon : 3\n"
          ]
        },
        {
          "output_type": "execute_result",
          "data": {
            "text/plain": [
              "'23.4'"
            ],
            "application/vnd.google.colaboratory.intrinsic+json": {
              "type": "string"
            }
          },
          "metadata": {},
          "execution_count": 18
        }
      ]
    },
    {
      "cell_type": "code",
      "source": [
        "# ques 5\n",
        "\n",
        "def decToBinary(n):\n",
        "    binaryNum = [0] * n;\n",
        "\n",
        "    i = 0;\n",
        "    while (n > 0):\n",
        " \n",
        "        binaryNum[i] = n % 2;\n",
        "        n = int(n / 2);\n",
        "        i += 1;\n",
        "      \n",
        "   \n",
        "    for j in range(i-1, -1, -1):\n",
        "        print(binaryNum[j], end = \"\");\n",
        "   \n",
        " \n",
        "\n",
        "n = int(input('enter decimal number : '))\n",
        "decToBinary(n)\n"
      ],
      "metadata": {
        "colab": {
          "base_uri": "https://localhost:8080/"
        },
        "id": "A830aTrbVhWN",
        "outputId": "54b10aa4-1f42-41c9-f106-41692df90bfc"
      },
      "execution_count": 65,
      "outputs": [
        {
          "output_type": "stream",
          "name": "stdout",
          "text": [
            "enter decimal number : 10\n",
            "1010"
          ]
        }
      ]
    }
  ]
}