{
  "nbformat": 4,
  "nbformat_minor": 0,
  "metadata": {
    "colab": {
      "provenance": []
    },
    "kernelspec": {
      "name": "python3",
      "display_name": "Python 3"
    },
    "language_info": {
      "name": "python"
    }
  },
  "cells": [
    {
      "cell_type": "markdown",
      "source": [
        "#Python Programme Assignment 20"
      ],
      "metadata": {
        "id": "NxWvuNtyiFFK"
      }
    },
    {
      "cell_type": "markdown",
      "source": [
        "1. Create a function that takes a list of strings and integers, and filters out the list so that it\n",
        "returns a list of integers only.\n",
        "\n",
        "\n",
        "2. Given a list of numbers, create a function which returns the list but with each element&#39;s\n",
        "index in the list added to itself. This means you add 0 to the number at index 0, add 1 to the\n",
        "number at index 1, etc...\n",
        "\n",
        "3. Create a function that takes the height and radius of a cone as arguments and returns the\n",
        "volume of the cone rounded to the nearest hundredth. See the resources tab for the formula.\n",
        "\n",
        "4. This Triangular Number Sequence is generated from a pattern of dots that form a triangle.\n",
        "The first 5 numbers of the sequence, or dots, are:\n",
        "> 1, 3, 6, 10, 15\n",
        "\n",
        "> This means that the first triangle has just one dot, the second one has three dots, the third one\n",
        "has 6 dots and so on.\n",
        "Write a function that gives the number of dots with its corresponding triangle number of the\n",
        "sequence.\n",
        "\n",
        "\n",
        "5. Create a function that takes a list of numbers between 1 and 10 (excluding one number) and\n",
        "returns the missing number.\n",
        "> Example\n",
        ">- missing_num([1, 2, 3, 4, 6, 7, 8, 9, 10]) ➞ 5"
      ],
      "metadata": {
        "id": "Rx3vWoKtgkBc"
      }
    },
    {
      "cell_type": "code",
      "source": [
        "# ques 1\n",
        "\n",
        "def filter_list(l):\n",
        "  m = []\n",
        "  for i in l:\n",
        "    if type(i)==int:\n",
        "      m.append(i)\n",
        "  return m    \n",
        "\n",
        "\n",
        "\n",
        "filter_list([1, 2, 3,'a', 'b', 4])\n"
      ],
      "metadata": {
        "colab": {
          "base_uri": "https://localhost:8080/"
        },
        "id": "NMS3iYtpiK4W",
        "outputId": "fee80e15-05a2-4a01-fc4e-8f69f9d56f51"
      },
      "execution_count": 1,
      "outputs": [
        {
          "output_type": "execute_result",
          "data": {
            "text/plain": [
              "[1, 2, 3, 4]"
            ]
          },
          "metadata": {},
          "execution_count": 1
        }
      ]
    },
    {
      "cell_type": "code",
      "source": [
        "# ques 2\n",
        "\n",
        "def add_indexes(l):\n",
        "  \n",
        "  for i in range(len(l)):\n",
        "    l[i] = l[i]+i\n",
        "  return l  \n",
        "\n",
        "\n",
        "add_indexes([1, 2, 3, 4, 5])"
      ],
      "metadata": {
        "colab": {
          "base_uri": "https://localhost:8080/"
        },
        "id": "VxPEYp4_inY4",
        "outputId": "861ac229-ac6e-4b5a-fd5b-a4af4a680a4b"
      },
      "execution_count": 2,
      "outputs": [
        {
          "output_type": "execute_result",
          "data": {
            "text/plain": [
              "[1, 3, 5, 7, 9]"
            ]
          },
          "metadata": {},
          "execution_count": 2
        }
      ]
    },
    {
      "cell_type": "code",
      "source": [
        "# ques 3\n",
        "import math\n",
        "def cone_volume(h, r):\n",
        "  return f'{(math.pi*h*math.pow(r,2))/3:.2f}'\n",
        "\n",
        "\n",
        "cone_volume(3, 2)"
      ],
      "metadata": {
        "colab": {
          "base_uri": "https://localhost:8080/",
          "height": 36
        },
        "id": "iPry0jCBluE2",
        "outputId": "757bb087-5f05-44f8-e96c-2537d17bebf1"
      },
      "execution_count": 28,
      "outputs": [
        {
          "output_type": "execute_result",
          "data": {
            "text/plain": [
              "'12.57'"
            ],
            "application/vnd.google.colaboratory.intrinsic+json": {
              "type": "string"
            }
          },
          "metadata": {},
          "execution_count": 28
        }
      ]
    },
    {
      "cell_type": "code",
      "source": [
        "# ques 4\n",
        "\n",
        "def triangle(num):\n",
        "  a = 1\n",
        "  for i in range(1,num):\n",
        "    a += i+1\n",
        "  return int(a)\n",
        "\n",
        "triangle(215)"
      ],
      "metadata": {
        "colab": {
          "base_uri": "https://localhost:8080/"
        },
        "id": "bWAVHRRmmNAh",
        "outputId": "53776118-e3e8-4a7c-abed-b600006bd16c"
      },
      "execution_count": 61,
      "outputs": [
        {
          "output_type": "execute_result",
          "data": {
            "text/plain": [
              "23220"
            ]
          },
          "metadata": {},
          "execution_count": 61
        }
      ]
    },
    {
      "cell_type": "code",
      "source": [
        "# ques 5\n",
        "\n",
        "def missing_num(l):\n",
        "  for i in range(1,11):\n",
        "    if i not in l:\n",
        "      return i\n",
        "\n",
        "\n",
        "missing_num([1, 2, 3, 4, 6, 7, 8, 9, 10])"
      ],
      "metadata": {
        "colab": {
          "base_uri": "https://localhost:8080/"
        },
        "id": "vknsXyUGpksJ",
        "outputId": "7ef71b02-9279-4438-dc78-ce6b0c7b6c61"
      },
      "execution_count": 62,
      "outputs": [
        {
          "output_type": "execute_result",
          "data": {
            "text/plain": [
              "5"
            ]
          },
          "metadata": {},
          "execution_count": 62
        }
      ]
    },
    {
      "cell_type": "code",
      "source": [
        "missing_num([7, 2, 3, 6, 5, 9, 1, 4, 8])"
      ],
      "metadata": {
        "colab": {
          "base_uri": "https://localhost:8080/"
        },
        "id": "7y0Vsy5dqZM0",
        "outputId": "8c43ffa0-4617-49cd-9d64-903cd5e3e76d"
      },
      "execution_count": 63,
      "outputs": [
        {
          "output_type": "execute_result",
          "data": {
            "text/plain": [
              "10"
            ]
          },
          "metadata": {},
          "execution_count": 63
        }
      ]
    },
    {
      "cell_type": "code",
      "source": [],
      "metadata": {
        "id": "EhM8H9oEreCB"
      },
      "execution_count": null,
      "outputs": []
    }
  ]
}