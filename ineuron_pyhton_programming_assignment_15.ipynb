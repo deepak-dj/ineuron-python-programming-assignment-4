{
  "nbformat": 4,
  "nbformat_minor": 0,
  "metadata": {
    "colab": {
      "provenance": [],
      "collapsed_sections": []
    },
    "kernelspec": {
      "name": "python3",
      "display_name": "Python 3"
    },
    "language_info": {
      "name": "python"
    }
  },
  "cells": [
    {
      "cell_type": "markdown",
      "source": [
        "#Python Programme Assignment 15"
      ],
      "metadata": {
        "id": "VH4JvYWnoIPP"
      }
    },
    {
      "cell_type": "markdown",
      "source": [
        "1. Please write a program using generator to print the numbers which can be divisible by 5 and\n",
        "7 between 0 and n in comma separated form while n is input by console.\n",
        "Example:\n",
        "If the following n is given as input to the program:\n",
        "100\n",
        "Then, the output of the program should be:\n",
        "0,35,70\n",
        "\n",
        "2. Please write a program using generator to print the even numbers between 0 and n in comma\n",
        "separated form while n is input by console.\n",
        "Example:\n",
        "If the following n is given as input to the program:\n",
        "10\n",
        "Then, the output of the program should be:\n",
        "0,2,4,6,8,10\n",
        "\n",
        "\n",
        "3. The Fibonacci Sequence is computed based on the following formula:\n",
        "f(n)=0 if n=0\n",
        "f(n)=1 if n=1\n",
        "f(n)=f(n-1)+f(n-2) if n&gt;1\n",
        "Please write a program using list comprehension to print the Fibonacci Sequence in comma\n",
        "separated form with a given n input by console.\n",
        "Example:\n",
        "If the following n is given as input to the program:\n",
        "7\n",
        "\n",
        "Then, the output of the program should be:\n",
        "0,1,1,2,3,5,8,13\n",
        "\n",
        "4. Assuming that we have some email addresses in the &quot;username@companyname.com&quot; format,\n",
        "please write program to print the user name of a given email address. Both user names and\n",
        "company names are composed of letters only.\n",
        "Example:\n",
        "If the following email address is given as input to the program:\n",
        "john@google.com\n",
        "Then, the output of the program should be:\n",
        "john\n",
        "\n",
        "5. Define a class named Shape and its subclass Square. The Square class has an init function\n",
        "which takes a length as argument. Both classes have a area function which can print the area\n",
        "of the shape where Shape&#39;s area is 0 by default."
      ],
      "metadata": {
        "id": "OstpJSMVnZc3"
      }
    },
    {
      "cell_type": "code",
      "source": [
        "# ques 1\n",
        "\n",
        "def div5or7(n):\n",
        "  i = 0\n",
        "  while i < n:\n",
        "    if i % 5 == 0 and i % 7 == 0: \n",
        "      yield i\n",
        "    i += 1  \n",
        "\n",
        "num = int(input('enter number : '))\n",
        "for i in div5or7(num):\n",
        "  print(i,end=',')   "
      ],
      "metadata": {
        "colab": {
          "base_uri": "https://localhost:8080/"
        },
        "id": "ZpSH2_EWna7P",
        "outputId": "1f8da259-d2a2-43d0-a783-b3b62d69ab1f"
      },
      "execution_count": 11,
      "outputs": [
        {
          "output_type": "stream",
          "name": "stdout",
          "text": [
            "enter number : 100\n",
            "0,35,70,"
          ]
        }
      ]
    },
    {
      "cell_type": "code",
      "source": [
        "1# ques 2\n",
        "\n",
        "def multiple_of_2(n):\n",
        "  i = 0\n",
        "  while i < n:\n",
        "    if i % 2 == 0:\n",
        "      yield i\n",
        "    i += 1  \n",
        "\n",
        "num = int(input('enter number: '))\n",
        "for i in multiple_of_2(num):\n",
        "  print(i,end=',')"
      ],
      "metadata": {
        "colab": {
          "base_uri": "https://localhost:8080/"
        },
        "id": "g0NrIwH-o95Z",
        "outputId": "1d95281d-514e-43d0-d632-746c6add4291"
      },
      "execution_count": 10,
      "outputs": [
        {
          "output_type": "stream",
          "name": "stdout",
          "text": [
            "enter number: 10\n",
            "0,2,4,6,8,"
          ]
        }
      ]
    },
    {
      "cell_type": "code",
      "source": [
        "# ques 3\n",
        "\n",
        "num = int(input('enter number : '))\n",
        "Fibonacci_series=[]\n",
        "[Fibonacci_series.append(Fibonacci_series[k-1]+Fibonacci_series[k-2] if k > 1 else 1 if k == 1 else 0) for k in range(num+1)]\n",
        "\n",
        "print(Fibonacci_series)"
      ],
      "metadata": {
        "colab": {
          "base_uri": "https://localhost:8080/"
        },
        "id": "oFUa_yWkrcUs",
        "outputId": "f7b1433f-d5c9-4314-e54f-c65b1eaf70cc"
      },
      "execution_count": 36,
      "outputs": [
        {
          "output_type": "stream",
          "name": "stdout",
          "text": [
            "enter number : 7\n",
            "[0, 1, 1, 2, 3, 5, 8, 13]\n"
          ]
        }
      ]
    },
    {
      "cell_type": "code",
      "source": [
        "# ques 4 \n",
        "\n",
        "email_add = input('enter email : ')\n",
        "def username(email):\n",
        "  user = email.split('@')\n",
        "  return user[0]\n",
        "username(email_add)  "
      ],
      "metadata": {
        "colab": {
          "base_uri": "https://localhost:8080/",
          "height": 53
        },
        "id": "fEvisB5ytDq9",
        "outputId": "8263106b-2185-4d0e-f7bf-299b73ef6674"
      },
      "execution_count": 41,
      "outputs": [
        {
          "name": "stdout",
          "output_type": "stream",
          "text": [
            "enter email : john@google.com \n"
          ]
        },
        {
          "output_type": "execute_result",
          "data": {
            "text/plain": [
              "'john'"
            ],
            "application/vnd.google.colaboratory.intrinsic+json": {
              "type": "string"
            }
          },
          "metadata": {},
          "execution_count": 41
        }
      ]
    },
    {
      "cell_type": "code",
      "source": [
        "# ques 5\n",
        "class Shape:\n",
        "  def area(self):\n",
        "    return 0\n",
        "class Square(Shape):\n",
        "    def __init__(self,length):\n",
        "      Shape.__init__(self)\n",
        "      self.length = length\n",
        "\n",
        "    def area(self):\n",
        "      return self.length**2\n",
        "\n",
        "s = Shape()\n",
        "print('default area = ',s.area())\n",
        "sq = Square(3)\n",
        "print('area of sq lenth 3 = ',sq.area())    "
      ],
      "metadata": {
        "colab": {
          "base_uri": "https://localhost:8080/"
        },
        "id": "8lM2br4J7jkg",
        "outputId": "83c54681-76ce-4569-84a8-a4df9e8ad5fa"
      },
      "execution_count": 58,
      "outputs": [
        {
          "output_type": "stream",
          "name": "stdout",
          "text": [
            "default area =  0\n",
            "area of sq lenth 3 =  9\n"
          ]
        }
      ]
    },
    {
      "cell_type": "code",
      "source": [],
      "metadata": {
        "id": "Zt1btjy3BV4y"
      },
      "execution_count": null,
      "outputs": []
    }
  ]
}