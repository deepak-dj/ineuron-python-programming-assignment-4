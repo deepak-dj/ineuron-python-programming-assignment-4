{
  "nbformat": 4,
  "nbformat_minor": 0,
  "metadata": {
    "colab": {
      "provenance": []
    },
    "kernelspec": {
      "name": "python3",
      "display_name": "Python 3"
    },
    "language_info": {
      "name": "python"
    }
  },
  "cells": [
    {
      "cell_type": "markdown",
      "source": [
        "# Python Programme Assignment 10"
      ],
      "metadata": {
        "id": "15pZTmPQudPW"
      }
    },
    {
      "cell_type": "markdown",
      "source": [
        "1. Write a Python program to find sum of elements in list?\n",
        "2. Write a Python program to Multiply all numbers in the list?\n",
        "3. Write a Python program to find smallest number in a list?\n",
        "4. Write a Python program to find largest number in a list?\n",
        "5. Write a Python program to find second largest number in a list?\n",
        "6. Write a Python program to find N largest elements from a list?\n",
        "7. Write a Python program to print even numbers in a list?\n",
        "8. Write a Python program to print odd numbers in a List?\n",
        "9. Write a Python program to Remove empty List from List?\n",
        "10. Write a Python program to Cloning or Copying a list?\n",
        "11. Write a Python program to Count occurrences of an element in a list?"
      ],
      "metadata": {
        "id": "ha4sH6WKujax"
      }
    },
    {
      "cell_type": "code",
      "source": [
        "# ques 1 \n",
        "l = [1,2,3,4,5,6,7,8,9,10]\n",
        "s = 0\n",
        "for i in l:\n",
        "  s += i\n",
        "print(f'summation of all the element of list {l} is : {s}')   "
      ],
      "metadata": {
        "colab": {
          "base_uri": "https://localhost:8080/"
        },
        "id": "7_kMSj98unKb",
        "outputId": "ed1aecb4-1c8a-4c48-a585-dc895f43ab8b"
      },
      "execution_count": 9,
      "outputs": [
        {
          "output_type": "stream",
          "name": "stdout",
          "text": [
            "summation of all the element of list [1, 2, 3, 4, 5, 6, 7, 8, 9, 10] is : 55\n"
          ]
        }
      ]
    },
    {
      "cell_type": "code",
      "source": [
        "# ques 2\n",
        "l = [1,2,3,4,5,6,7,8,9,10]\n",
        "\n",
        "m = 1\n",
        "for i in l:\n",
        "   m *= i\n",
        "print(f'product of all the element of list {l} is : {m}')   "
      ],
      "metadata": {
        "colab": {
          "base_uri": "https://localhost:8080/"
        },
        "id": "CI_FWN45uzdi",
        "outputId": "0494f33d-4841-4303-f194-14839f4b699c"
      },
      "execution_count": 10,
      "outputs": [
        {
          "output_type": "stream",
          "name": "stdout",
          "text": [
            "product of all the element of list [1, 2, 3, 4, 5, 6, 7, 8, 9, 10] is : 3628800\n"
          ]
        }
      ]
    },
    {
      "cell_type": "code",
      "source": [
        "# ques 3\n",
        "\n",
        "l = [8,5,6,7,9,0,1,2,4,3]\n",
        "\n",
        "small = 0\n",
        "\n",
        "for i in l:\n",
        "  if i < small:\n",
        "    small = i\n",
        "print(f'samllest element in list {l} is : {small}')   "
      ],
      "metadata": {
        "colab": {
          "base_uri": "https://localhost:8080/"
        },
        "id": "sthm-5BOvAqa",
        "outputId": "c8e11d4b-bd59-4c9d-b174-0bc3282f87f3"
      },
      "execution_count": 12,
      "outputs": [
        {
          "output_type": "stream",
          "name": "stdout",
          "text": [
            "samllest element in list [8, 5, 6, 7, 9, 0, 1, 2, 4, 3] is : 0\n"
          ]
        }
      ]
    },
    {
      "cell_type": "code",
      "source": [
        "# ques 4\n",
        "l = [8,5,6,7,9,0,1,2,4,3]\n",
        "\n",
        "large = 0\n",
        "\n",
        "for i in l:\n",
        "  if i > large:\n",
        "    large = i\n",
        "print(f'samllest element in list {l} is : {large}')   "
      ],
      "metadata": {
        "colab": {
          "base_uri": "https://localhost:8080/"
        },
        "id": "hNGp_wJZvaLA",
        "outputId": "cfa0fbf1-fd9e-4f41-f72a-714dd8c5735e"
      },
      "execution_count": 14,
      "outputs": [
        {
          "output_type": "stream",
          "name": "stdout",
          "text": [
            "samllest element in list [8, 5, 6, 7, 9, 0, 1, 2, 4, 3] is : 9\n"
          ]
        }
      ]
    },
    {
      "cell_type": "code",
      "source": [
        "# ques 5\n",
        "\n",
        "l = [8,5,6,7,9,0,1,2,4,3]\n",
        "x = sorted(l)\n",
        "print(f'second largest number of the list {l} is : {x[-2]}')"
      ],
      "metadata": {
        "colab": {
          "base_uri": "https://localhost:8080/"
        },
        "id": "RE4uE__awFOr",
        "outputId": "9fd3aed6-095d-4957-9b50-4aff0ff8ded1"
      },
      "execution_count": 22,
      "outputs": [
        {
          "output_type": "stream",
          "name": "stdout",
          "text": [
            "second largest number of the list [8, 5, 6, 7, 9, 0, 1, 2, 4, 3] is : 8\n"
          ]
        }
      ]
    },
    {
      "cell_type": "code",
      "source": [
        "# ques 6\n",
        "\n",
        "l = [8,5,6,7,9,0,1,2,4,3]\n",
        "\n",
        "l.sort(reverse=True)\n",
        "s = []\n",
        "def result(num):\n",
        "  for i in range(num):\n",
        "    s.append(l[i])\n",
        "  return s\n",
        "\n",
        "num = 3\n",
        "r = result(num)\n",
        "\n",
        "for i in range(len(s)):\n",
        "  print(f'{i+1}st largest number is {s[i]}')"
      ],
      "metadata": {
        "colab": {
          "base_uri": "https://localhost:8080/"
        },
        "id": "uaORt4NG1kR6",
        "outputId": "0e410065-53f3-4a3d-a954-32e17a8ff6ad"
      },
      "execution_count": 29,
      "outputs": [
        {
          "output_type": "stream",
          "name": "stdout",
          "text": [
            "1st largest number is 9\n",
            "2st largest number is 8\n",
            "3st largest number is 7\n"
          ]
        }
      ]
    },
    {
      "cell_type": "code",
      "source": [
        "# ques 7\n",
        "l = [8,5,6,7,9,0,1,2,4,3]\n",
        "\n",
        "for i in l:\n",
        "  if i%2 == 0:\n",
        "    print(i)\n"
      ],
      "metadata": {
        "colab": {
          "base_uri": "https://localhost:8080/"
        },
        "id": "MF1xPyr3_MUo",
        "outputId": "dccbacc1-cc64-4941-a53e-c82a837fc62c"
      },
      "execution_count": 30,
      "outputs": [
        {
          "output_type": "stream",
          "name": "stdout",
          "text": [
            "8\n",
            "6\n",
            "0\n",
            "2\n",
            "4\n"
          ]
        }
      ]
    },
    {
      "cell_type": "code",
      "source": [
        "# ques 8 \n",
        "l = [8,5,6,7,9,0,1,2,4,3]\n",
        "for i in l:\n",
        "  if i%2 != 0:\n",
        "    print(i)"
      ],
      "metadata": {
        "colab": {
          "base_uri": "https://localhost:8080/"
        },
        "id": "Rt1R1dhbAViw",
        "outputId": "727e536e-3baa-4d45-a117-c47a5091ea77"
      },
      "execution_count": 31,
      "outputs": [
        {
          "output_type": "stream",
          "name": "stdout",
          "text": [
            "5\n",
            "7\n",
            "9\n",
            "1\n",
            "3\n"
          ]
        }
      ]
    },
    {
      "cell_type": "code",
      "source": [
        "# ques 9\n",
        "\n",
        "l = [8,5,[],6,7,9,0,1,2,4,3,[]]\n",
        "print(f'original list is : {l}')\n",
        "\n",
        "for i in l:\n",
        "  if type(i) == list and i == [] :\n",
        "    l.remove(i)\n",
        "print(f'new list without empty list is : {l}')    "
      ],
      "metadata": {
        "colab": {
          "base_uri": "https://localhost:8080/"
        },
        "id": "nqu2EhfcAg72",
        "outputId": "9074f981-ecda-4046-fb2a-4f031dec8508"
      },
      "execution_count": 43,
      "outputs": [
        {
          "output_type": "stream",
          "name": "stdout",
          "text": [
            "original list is : [8, 5, [], 6, 7, 9, 0, 1, 2, 4, 3, []]\n",
            "new list without empty list is : [8, 5, 6, 7, 9, 0, 1, 2, 4, 3]\n"
          ]
        }
      ]
    },
    {
      "cell_type": "code",
      "source": [
        "# ques 10\n",
        "l = [8,5,6,7,9,0,1,2,4,3]\n",
        "m = l[::]\n",
        "n = l.copy()\n",
        "print(f'copy of list {m}')\n",
        "print()\n",
        "print(f'copy of list {n}')"
      ],
      "metadata": {
        "colab": {
          "base_uri": "https://localhost:8080/"
        },
        "id": "-2K1cjGpA3xg",
        "outputId": "1c948e51-0f05-4f48-c4b6-87718c72df7d"
      },
      "execution_count": 48,
      "outputs": [
        {
          "output_type": "stream",
          "name": "stdout",
          "text": [
            "copy of list [8, 5, 6, 7, 9, 0, 1, 2, 4, 3]\n",
            "\n",
            "copy of list [8, 5, 6, 7, 9, 0, 1, 2, 4, 3]\n"
          ]
        }
      ]
    },
    {
      "cell_type": "code",
      "source": [
        "# ques 11\n",
        "\n",
        "l = [1,2,3,4,23,4,5,5,5,6,6,7,7]\n",
        "\n",
        "i = int(input('enter number : '))\n",
        "\n",
        "if i in l:\n",
        "  print(f' {i} occures in the list in {l.count(i)} times')\n",
        "else:\n",
        "  print(f'{i} doesnot exist in the given list {l}')  \n",
        "\n"
      ],
      "metadata": {
        "colab": {
          "base_uri": "https://localhost:8080/"
        },
        "id": "VMvNNIaVBN8A",
        "outputId": "18d1ef7a-19cd-4bd0-b5b6-464c032d6834"
      },
      "execution_count": 56,
      "outputs": [
        {
          "output_type": "stream",
          "name": "stdout",
          "text": [
            "enter number : 5\n",
            " 5 occures in the list in 3 times\n"
          ]
        }
      ]
    },
    {
      "cell_type": "code",
      "source": [],
      "metadata": {
        "id": "qpFOlPFdEmiV"
      },
      "execution_count": 51,
      "outputs": []
    }
  ]
}