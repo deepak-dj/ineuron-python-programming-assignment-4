{
  "nbformat": 4,
  "nbformat_minor": 0,
  "metadata": {
    "colab": {
      "provenance": []
    },
    "kernelspec": {
      "name": "python3",
      "display_name": "Python 3"
    },
    "language_info": {
      "name": "python"
    }
  },
  "cells": [
    {
      "cell_type": "markdown",
      "source": [
        "# Python Programme Assignment 13\n"
      ],
      "metadata": {
        "id": "6ev7xoCjoUtA"
      }
    },
    {
      "cell_type": "markdown",
      "source": [
        "Question 1:\n",
        "Write a program that calculates and prints the value according to the given formula:\n",
        "Q = Square root of [(2 * C * D)/H]\n",
        "Following are the fixed values of C and H:\n",
        "C is 50. H is 30.\n",
        "D is the variable whose values should be input to your program in a comma-separated\n",
        "sequence.\n",
        "Example\n",
        "Let us assume the following comma separated input sequence is given to the program:\n",
        "100,150,180\n",
        "The output of the program should be:\n",
        "18,22,24\n",
        "\n",
        "Question 2:\n",
        "Write a program which takes 2 digits, X,Y as input and generates a 2-dimensional array. The\n",
        "element value in the i-th row and j-th column of the array should be i*j.\n",
        "Note: i=0,1.., X-1; j=0,1,¡Y-1.\n",
        "Example\n",
        "Suppose the following inputs are given to the program:\n",
        "3,5\n",
        "Then, the output of the program should be:\n",
        "[[0, 0, 0, 0, 0], [0, 1, 2, 3, 4], [0, 2, 4, 6, 8]]\n",
        "\n",
        "Question 3:\n",
        "Write a program that accepts a comma separated sequence of words as input and prints the\n",
        "words in a comma-separated sequence after sorting them alphabetically.\n",
        "Suppose the following input is supplied to the program:\n",
        "without,hello,bag,world\n",
        "Then, the output should be:\n",
        "bag,hello,without,world\n",
        "\n",
        "Question 4:\n",
        "Write a program that accepts a sequence of whitespace separated words as input and prints\n",
        "the words after removing all duplicate words and sorting them alphanumerically.\n",
        "Suppose the following input is supplied to the program:\n",
        "hello world and practice makes perfect and hello world again\n",
        "Then, the output should be:\n",
        "again and hello makes perfect practice world\n",
        "\n",
        "Question 5:\n",
        "Write a program that accepts a sentence and calculate the number of letters and digits.\n",
        "Suppose the following input is supplied to the program:\n",
        "hello world! 123\n",
        "Then, the output should be:\n",
        "LETTERS 10\n",
        "\n",
        "DIGITS 3\n",
        "\n",
        "Question 6:\n",
        "A website requires the users to input username and password to register. Write a program to\n",
        "check the validity of password input by users.\n",
        "Following are the criteria for checking the password:\n",
        "1. At least 1 letter between [a-z]\n",
        "2. At least 1 number between [0-9]\n",
        "1. At least 1 letter between [A-Z]\n",
        "3. At least 1 character from [$#@]\n",
        "4. Minimum length of transaction password: 6\n",
        "5. Maximum length of transaction password: 12\n",
        "Your program should accept a sequence of comma separated passwords and will check them\n",
        "according to the above criteria. Passwords that match the criteria are to be printed, each\n",
        "separated by a comma.\n",
        "Example\n",
        "If the following passwords are given as input to the program:\n",
        "ABd1234@1,a F1#,2w3E*,2We3345\n",
        "Then, the output of the program should be:\n",
        "ABd1234@1"
      ],
      "metadata": {
        "id": "eIJUYGw3oMl0"
      }
    },
    {
      "cell_type": "code",
      "source": [
        "\n",
        "\n"
      ],
      "metadata": {
        "id": "YVsUxDljoNMO"
      },
      "execution_count": null,
      "outputs": []
    },
    {
      "cell_type": "code",
      "source": [
        "# ques 1\n",
        "\n",
        "\n",
        "def calculation(d):\n",
        "  c = 50\n",
        "  h = 30\n",
        "  l = d.split(',')  \n",
        "  for i in l:\n",
        "    print(int((2*c*int(i)/h)**(1/2)))\n",
        "    # print(i)\n",
        "d = input('enter comma seperted values (1,2,3) : ')\n",
        "\n",
        "calculation(d)\n"
      ],
      "metadata": {
        "colab": {
          "base_uri": "https://localhost:8080/"
        },
        "id": "lbyI8ns4oPF5",
        "outputId": "165572c9-1f2d-4f79-f839-6cfab4c08261"
      },
      "execution_count": 19,
      "outputs": [
        {
          "output_type": "stream",
          "name": "stdout",
          "text": [
            "enter comma seperted values (1,2,3) : 100,150,180\n",
            "18\n",
            "22\n",
            "24\n"
          ]
        }
      ]
    },
    {
      "cell_type": "code",
      "source": [
        "# ques 2\n",
        "\n",
        "import numpy as np\n",
        "\n",
        "row = int(input('enter number for row : '))\n",
        "column = int(input('enter number for column : '))\n",
        "\n",
        "l = []\n",
        "for i in range(row):\n",
        "  for j in range(column):\n",
        "    l.append(j*i)\n",
        "\n",
        "\n",
        "n = np.array(l)\n",
        "n.resize(3,5)\n",
        "print()\n",
        "n"
      ],
      "metadata": {
        "colab": {
          "base_uri": "https://localhost:8080/"
        },
        "id": "fpx_T-AfpzY-",
        "outputId": "7d5ab28b-49b5-4062-f153-0826bf929343"
      },
      "execution_count": 41,
      "outputs": [
        {
          "output_type": "stream",
          "name": "stdout",
          "text": [
            "enter number for row : 3\n",
            "enter number for column : 5\n",
            "\n"
          ]
        },
        {
          "output_type": "execute_result",
          "data": {
            "text/plain": [
              "array([[0, 0, 0, 0, 0],\n",
              "       [0, 1, 2, 3, 4],\n",
              "       [0, 2, 4, 6, 8]])"
            ]
          },
          "metadata": {},
          "execution_count": 41
        }
      ]
    },
    {
      "cell_type": "code",
      "source": [
        "# ques 3\n",
        "s = input('enter words seperated by comma : ')\n",
        "print()\n",
        "x = s.split(',')\n",
        "x.sort()\n",
        "','.join(x)"
      ],
      "metadata": {
        "colab": {
          "base_uri": "https://localhost:8080/",
          "height": 71
        },
        "id": "a7vyMd_HrGEH",
        "outputId": "50661a61-3286-4632-d139-5d5955c3fd8b"
      },
      "execution_count": 48,
      "outputs": [
        {
          "output_type": "stream",
          "name": "stdout",
          "text": [
            "enter words seperated by comma : without,hello,bag,world \n",
            "\n"
          ]
        },
        {
          "output_type": "execute_result",
          "data": {
            "text/plain": [
              "'bag,hello,without,world '"
            ],
            "application/vnd.google.colaboratory.intrinsic+json": {
              "type": "string"
            }
          },
          "metadata": {},
          "execution_count": 48
        }
      ]
    },
    {
      "cell_type": "code",
      "source": [
        "# ques 4 \n",
        "\n",
        "a = input('enter sentence : ')\n",
        "print()\n",
        "b = a.split()\n",
        "c = []\n",
        "\n",
        "for i in b:\n",
        "  if i not in c:\n",
        "    c.append(i)\n",
        "c.sort()\n",
        "' '.join(c)\n"
      ],
      "metadata": {
        "colab": {
          "base_uri": "https://localhost:8080/",
          "height": 71
        },
        "id": "hA0L4HEjxRXc",
        "outputId": "0751653f-2a85-4272-9e3e-f3272145e554"
      },
      "execution_count": 57,
      "outputs": [
        {
          "output_type": "stream",
          "name": "stdout",
          "text": [
            "enter sentence : hello world and practice makes perfect and hello world again\n",
            "\n"
          ]
        },
        {
          "output_type": "execute_result",
          "data": {
            "text/plain": [
              "'again and hello makes perfect practice world'"
            ],
            "application/vnd.google.colaboratory.intrinsic+json": {
              "type": "string"
            }
          },
          "metadata": {},
          "execution_count": 57
        }
      ]
    },
    {
      "cell_type": "code",
      "source": [
        "# ques 5\n",
        "\n",
        "s = input('enter sentence which contain letters and digits : ')\n",
        "letter = 0\n",
        "digit = 0\n",
        "for i in s:\n",
        "  if i.isalpha():\n",
        "    letter += 1\n",
        "  elif i.isnumeric():\n",
        "    digit += 1  \n",
        "print(f'number of letters are : {letter}')    \n",
        "print(f'number of digits are : {digit}')\n",
        "    "
      ],
      "metadata": {
        "colab": {
          "base_uri": "https://localhost:8080/"
        },
        "id": "_Hc8Nyr_yEKS",
        "outputId": "c7ae0562-7601-4a92-a815-34dd972a6391"
      },
      "execution_count": 59,
      "outputs": [
        {
          "output_type": "stream",
          "name": "stdout",
          "text": [
            "enter sentence which contain letters and digits : hello world! 123 \n",
            "number of letters are : 10\n",
            "number of digits are : 3\n"
          ]
        }
      ]
    },
    {
      "cell_type": "code",
      "source": [
        "# ques 6\n",
        "\n",
        "criteria = ['a','b','c','d','e','f','g','h','i','j','k','l','m','n','o','p','q','r','s','t','u','v','w','x','y','z']\n",
        "criteria.extend([i.upper() for i in criteria])\n",
        "special_char = ['@','#','$','&']\n",
        "criteria.extend(special_char)\n",
        "numbers = [i for i in range(10)]\n",
        "criteria.extend(numbers)\n",
        "\n",
        "\n",
        "\n",
        "password = input('enter passwords saperated with comma : ')\n",
        "paswrd = password.split(',')\n",
        "paswrd\n",
        "print()\n",
        "for i in paswrd:\n",
        "  if 6<=len(i)<=12:\n",
        "    for j in i:\n",
        "      if j in criteria:\n",
        "        print(j,end='')\n",
        "    \n",
        "\n",
        "# for i in lower_letter:\n",
        "#   if i in password :\n",
        "#     print(password)\n",
        "  "
      ],
      "metadata": {
        "colab": {
          "base_uri": "https://localhost:8080/"
        },
        "id": "O78WldMozn_1",
        "outputId": "76b19c5f-1e82-4972-fc52-131f4f8bf96b"
      },
      "execution_count": 74,
      "outputs": [
        {
          "output_type": "stream",
          "name": "stdout",
          "text": [
            "enter passwords saperated with comma : ABd1234@1,a F1#,2w3E*,2We3345\n",
            "\n",
            "ABd@We"
          ]
        }
      ]
    },
    {
      "cell_type": "code",
      "source": [
        "\n"
      ],
      "metadata": {
        "id": "faFVFVHT07Q4"
      },
      "execution_count": 74,
      "outputs": []
    },
    {
      "cell_type": "code",
      "source": [],
      "metadata": {
        "id": "nD2svib155_d"
      },
      "execution_count": null,
      "outputs": []
    }
  ]
}