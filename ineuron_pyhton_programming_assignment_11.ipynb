{
  "nbformat": 4,
  "nbformat_minor": 0,
  "metadata": {
    "colab": {
      "provenance": [],
      "collapsed_sections": []
    },
    "kernelspec": {
      "name": "python3",
      "display_name": "Python 3"
    },
    "language_info": {
      "name": "python"
    }
  },
  "cells": [
    {
      "cell_type": "markdown",
      "source": [
        "# Python Programme Assignment 11\n"
      ],
      "metadata": {
        "id": "TOmuuL22GKkn"
      }
    },
    {
      "cell_type": "markdown",
      "source": [
        "1. Write a Python program to find words which are greater than given length k?\n",
        "2. Write a Python program for removing i-th character from a string?\n",
        "3. Write a Python program to split and join a string?\n",
        "4. Write a Python to check if a given string is binary string or not?\n",
        "5. Write a Python program to find uncommon words from two Strings?\n",
        "6. Write a Python to find all duplicate characters in string?\n",
        "7. Write a Python Program to check if a string contains any special character?"
      ],
      "metadata": {
        "id": "thoj5MjSGHSR"
      }
    },
    {
      "cell_type": "code",
      "source": [
        "# ques 1\n",
        "\n",
        "word = \"hello my name is deepak\"\n",
        "def words(k):\n",
        "  l = word.split()\n",
        "  s = ''\n",
        "  for i in l:\n",
        "    if len(i)>k:\n",
        "      s += i+' '   \n",
        "  return s.strip()\n",
        "\n",
        "words(4)\n",
        "\n",
        "\n",
        "\n"
      ],
      "metadata": {
        "colab": {
          "base_uri": "https://localhost:8080/",
          "height": 35
        },
        "id": "SOf84X4mGIBN",
        "outputId": "2bace76e-e830-4c29-a148-a97e02d0a8bf"
      },
      "execution_count": 13,
      "outputs": [
        {
          "output_type": "execute_result",
          "data": {
            "text/plain": [
              "'hello deepak'"
            ],
            "application/vnd.google.colaboratory.intrinsic+json": {
              "type": "string"
            }
          },
          "metadata": {},
          "execution_count": 13
        }
      ]
    },
    {
      "cell_type": "code",
      "source": [
        "# ques 2\n",
        "\n",
        "word = \"hello my name is deepak\"\n",
        "\n",
        "def removing_char(i):\n",
        " s = ''\n",
        " for j in range(len(word)):\n",
        "   if i != j:\n",
        "     s += word[j]\n",
        " return s.strip() \n",
        "\n",
        "\n",
        "removing_char(13)\n",
        "    "
      ],
      "metadata": {
        "colab": {
          "base_uri": "https://localhost:8080/",
          "height": 35
        },
        "id": "7agJcIdgHDjp",
        "outputId": "a00d40f7-ce0b-457c-f209-f7e628931587"
      },
      "execution_count": 23,
      "outputs": [
        {
          "output_type": "execute_result",
          "data": {
            "text/plain": [
              "'hello my nameis deepak'"
            ],
            "application/vnd.google.colaboratory.intrinsic+json": {
              "type": "string"
            }
          },
          "metadata": {},
          "execution_count": 23
        }
      ]
    },
    {
      "cell_type": "code",
      "source": [
        "# ques 3\n",
        "\n",
        "s = \"hello my name is deepak\"\n",
        "l = s.split()\n",
        "print(f'spliting string \"{s}\" to list : {l}') \n",
        "print()\n",
        "print(f'joining the list {l} to string : {\" \".join(l)}')\n",
        "\n"
      ],
      "metadata": {
        "colab": {
          "base_uri": "https://localhost:8080/"
        },
        "id": "-KPJuTr5J8FJ",
        "outputId": "cc3aa3d2-0578-4bcd-e949-7a5df45b66d7"
      },
      "execution_count": 64,
      "outputs": [
        {
          "output_type": "stream",
          "name": "stdout",
          "text": [
            "spliting string \"hello my name is deepak\" to list : ['hello', 'my', 'name', 'is', 'deepak']\n",
            "\n",
            "joining the list ['hello', 'my', 'name', 'is', 'deepak'] to string : hello my name is deepak\n"
          ]
        }
      ]
    },
    {
      "cell_type": "code",
      "source": [
        "# ques 4\n",
        "\n",
        "\n",
        "def check_binary(s):\n",
        "  for i in s:\n",
        "    if int(i)<=1 and int(i)>=0:\n",
        "      x = 1\n",
        "    else:\n",
        "      x = 0\n",
        "      break\n",
        "  return x    \n",
        "      \n",
        "      \n",
        "\n",
        "\n",
        "s1 = input('enter number to check it is binary or not : ')\n",
        "c = check_binary(s1)\n",
        "\n",
        "if c==1:\n",
        "  print(f'given input {s1} is binary')\n",
        "else:\n",
        "  print(f'given input {s1} is not binary')    "
      ],
      "metadata": {
        "colab": {
          "base_uri": "https://localhost:8080/"
        },
        "id": "K5A0zeH5L_D1",
        "outputId": "5f084b56-14ba-4bed-d7a6-3e11e709db6b"
      },
      "execution_count": 86,
      "outputs": [
        {
          "output_type": "stream",
          "name": "stdout",
          "text": [
            "enter number to check it is binary or not : 10000100101010101010\n",
            "given input 10000100101010101010 is binary\n"
          ]
        }
      ]
    },
    {
      "cell_type": "code",
      "source": [
        "# ques 5\n",
        "\n",
        "s1 = 'delhi a state is very beaultiful'\n",
        "s2 = 'banglore a city is a hub of IT'\n",
        "print(f'string 1 : {s1}')\n",
        "print(f'string 2 : {s2}')\n",
        "print()\n",
        "\n",
        "S1 = s1.split()\n",
        "S2 = s2.split()\n",
        "\n",
        "s3 = []\n",
        "\n",
        "for i in S1:\n",
        "  if i not in S2:\n",
        "    s3.append(i)\n",
        "for j in S2:\n",
        "  if j not in S1:\n",
        "    s3.append(j)\n",
        "print(f'list of uncommon words from the two above string are : {s3}')        "
      ],
      "metadata": {
        "colab": {
          "base_uri": "https://localhost:8080/"
        },
        "id": "qsjFptF-NbHW",
        "outputId": "51c084d6-6b8f-4f14-d79a-9fea71549314"
      },
      "execution_count": 104,
      "outputs": [
        {
          "output_type": "stream",
          "name": "stdout",
          "text": [
            "string 1 : delhi a state is very beaultiful\n",
            "string 2 : banglore a city is a hub of IT\n",
            "\n",
            "list of uncommon words from the two above string are : ['delhi', 'state', 'very', 'beaultiful', 'banglore', 'city', 'hub', 'of', 'IT']\n"
          ]
        }
      ]
    },
    {
      "cell_type": "code",
      "source": [
        "# ques 6\n",
        "\n",
        "s1 = 'delhi  is a beaultiful city'\n",
        "s2 = 'banglore city is a hub of IT'\n",
        "print(f'string 1 : {s1}')\n",
        "print(f'string 2 : {s2}')\n",
        "print()\n",
        "\n",
        "S1 = s1.split()\n",
        "S2 = s2.split()\n",
        "\n",
        "s3 = []\n",
        "\n",
        "for i in S1:\n",
        "  if i in S2:\n",
        "    s3.append(i)\n",
        "\n",
        "print(f'list of common words from the two above string are : {s3}')  "
      ],
      "metadata": {
        "colab": {
          "base_uri": "https://localhost:8080/"
        },
        "id": "42sdgKsrPNIB",
        "outputId": "5fe594d6-dbfc-48a5-eb2d-ce37dc2a3057"
      },
      "execution_count": 106,
      "outputs": [
        {
          "output_type": "stream",
          "name": "stdout",
          "text": [
            "string 1 : delhi  is a beaultiful city\n",
            "string 2 : banglore city is a hub of IT\n",
            "\n",
            "list of common words from the two above string are : ['is', 'a', 'city']\n"
          ]
        }
      ]
    },
    {
      "cell_type": "code",
      "source": [
        "# ques 7\n",
        "\n",
        "special_char = '''!@#$%^&*(),'.\"?/.'''\n",
        "\n",
        "l = []\n",
        "\n",
        "def check_s_char(word):\n",
        "  for i in word:\n",
        "    if i in special_char:\n",
        "      x = 1\n",
        "      l.append(i)\n",
        "    else:\n",
        "      x = 0  \n",
        "  if x == 1:\n",
        "    return f'\"{word}\" :  contain special character {l}'   \n",
        "  else:\n",
        "    return  f'\"{word}\" : not contain special character'\n",
        "      \n",
        "word = 'delhi,is a #beaultiful city?'\n",
        "word1 = 'delhi  is a beaultiful city'\n",
        "print(check_s_char(word))\n",
        "print()\n",
        "print(check_s_char(word1))\n",
        "\n",
        "\n"
      ],
      "metadata": {
        "colab": {
          "base_uri": "https://localhost:8080/"
        },
        "id": "iFqwiqbhYtxe",
        "outputId": "021da504-01da-405e-ad77-79e1d8b4cca7"
      },
      "execution_count": 114,
      "outputs": [
        {
          "output_type": "stream",
          "name": "stdout",
          "text": [
            "\"delhi,is a #beaultiful city?\" :  contain special character [',', '#', '?']\n",
            "\n",
            "\"delhi  is a beaultiful city\" : not contain special character\n"
          ]
        }
      ]
    },
    {
      "cell_type": "code",
      "source": [],
      "metadata": {
        "id": "VGrf3We0aLEX"
      },
      "execution_count": null,
      "outputs": []
    }
  ]
}