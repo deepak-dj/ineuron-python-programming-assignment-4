{
  "nbformat": 4,
  "nbformat_minor": 0,
  "metadata": {
    "colab": {
      "provenance": []
    },
    "kernelspec": {
      "name": "python3",
      "display_name": "Python 3"
    },
    "language_info": {
      "name": "python"
    }
  },
  "cells": [
    {
      "cell_type": "markdown",
      "source": [
        "#Python Programme Assignment 21"
      ],
      "metadata": {
        "id": "LX8F_IlaLSFm"
      }
    },
    {
      "cell_type": "markdown",
      "source": [
        "1. Write a function that takes a list and a number as arguments. Add the number to the end of\n",
        "the list, then remove the first element of the list. The function should then return the updated\n",
        "list.\n",
        "> Examples\n",
        ">- next_in_line([5, 6, 7, 8, 9], 1) ➞ [6, 7, 8, 9, 1]\n",
        "\n",
        "2. Create the function that takes a list of dictionaries and returns the sum of people&#39;s budgets.\n",
        "> Examples\n",
        ">- get_budgets([\n",
        "{ &quot;name&quot;: &quot;John&quot;, &quot;age&quot;: 21, &quot;budget&quot;: 23000 },\n",
        "{ &quot;name&quot;: &quot;Steve&quot;, &quot;age&quot;: 32, &quot;budget&quot;: 40000 },\n",
        "{ &quot;name&quot;: &quot;Martin&quot;, &quot;age&quot;: 16, &quot;budget&quot;: 2700 }\n",
        "]) ➞ 65700\n",
        "\n",
        "\n",
        "3. Create a function that takes a string and returns a string with its letters in alphabetical order.\n",
        "> Examples\n",
        ">- alphabet_soup(&quot;hello&quot;) ➞ &quot;ehllo&quot;\n",
        "\n",
        "4. Suppose that you invest $10,000 for 10 years at an interest rate of 6% compounded monthly.\n",
        "What will be the value of your investment at the end of the 10 year period?\n",
        "\n",
        "> Create a function that accepts the principal p, the term in years t, the interest rate r, and the\n",
        "number of compounding periods per year n. The function returns the value at the end of term\n",
        "rounded to the nearest cent.\n",
        "> For the example above:\n",
        "compound_interest(10000, 10, 0.06, 12) ➞ 18193.97\n",
        "\n",
        "> Note that the interest rate is given as a decimal and n=12 because with monthly compounding\n",
        "there are 12 periods per year. Compounding can also be done annually, quarterly, weekly, or\n",
        "daily.\n",
        "\n",
        "\n",
        "5. Write a function that takes a list of elements and returns only the integers.\n",
        "> Examples\n",
        ">- return_only_integer([9, 2, &quot;space&quot;, &quot;car&quot;, &quot;lion&quot;, 16]) ➞ [9, 2, 16]"
      ],
      "metadata": {
        "id": "43fMyC8SsF4c"
      }
    },
    {
      "cell_type": "code",
      "source": [
        "# ques 1 \n",
        "\n",
        "def next_in_line(l,n):\n",
        "      l.pop(0)\n",
        "      l.append(n)\n",
        "      return l\n",
        "    \n",
        "\n",
        "next_in_line([5, 6, 7, 8, 9], 1) "
      ],
      "metadata": {
        "colab": {
          "base_uri": "https://localhost:8080/"
        },
        "id": "6Jc-dHFmt_9C",
        "outputId": "ae02cc32-4b58-48c7-a1ba-5427bd657aa0"
      },
      "execution_count": 2,
      "outputs": [
        {
          "output_type": "execute_result",
          "data": {
            "text/plain": [
              "[6, 7, 8, 9, 1]"
            ]
          },
          "metadata": {},
          "execution_count": 2
        }
      ]
    },
    {
      "cell_type": "code",
      "source": [
        "# ques 2\n",
        "\n",
        "def get_budgets(obj):\n",
        "  cost = 0\n",
        "  for i in obj:\n",
        "    cost += i['budget']\n",
        "  return cost\n",
        "\n",
        "\n",
        "\n",
        "get_budgets([ { \"name\": \"John\", \"age\": 21, \"budget\": 23000 }, { \"name\": \"Steve\", \"age\": 32, \"budget\": 40000 }, { \"name\": \"Martin\", \"age\": 16, \"budget\": 2700 } ])"
      ],
      "metadata": {
        "colab": {
          "base_uri": "https://localhost:8080/"
        },
        "id": "cRtICed6ukV8",
        "outputId": "cf77bff1-cb64-4119-a6a5-15370a21e4c5"
      },
      "execution_count": 3,
      "outputs": [
        {
          "output_type": "execute_result",
          "data": {
            "text/plain": [
              "65700"
            ]
          },
          "metadata": {},
          "execution_count": 3
        }
      ]
    },
    {
      "cell_type": "code",
      "source": [
        "# ques 3\n",
        "\n",
        "def alphabet_soup(string):\n",
        "  s=''\n",
        "  m = sorted(string)\n",
        "  for i in m:\n",
        "    s+=i \n",
        "  return s    \n",
        "\n",
        "\n",
        "alphabet_soup(\"hello\") "
      ],
      "metadata": {
        "colab": {
          "base_uri": "https://localhost:8080/",
          "height": 36
        },
        "id": "NIM8jMRHvbhK",
        "outputId": "6a5d92ff-d3f4-4a73-9107-e2d4d6f2d085"
      },
      "execution_count": 8,
      "outputs": [
        {
          "output_type": "execute_result",
          "data": {
            "text/plain": [
              "'ehllo'"
            ],
            "application/vnd.google.colaboratory.intrinsic+json": {
              "type": "string"
            }
          },
          "metadata": {},
          "execution_count": 8
        }
      ]
    },
    {
      "cell_type": "code",
      "source": [
        "# ques 4\n",
        "#formula for CI :  FV = P (1+ r/n)^nt\n",
        "def compound_interest(p,t,r,n):\n",
        "  return f'{p*(1+r/n)**(n*t):.2f}'\n",
        "\n",
        "compound_interest(10000, 10, 0.06, 12) "
      ],
      "metadata": {
        "colab": {
          "base_uri": "https://localhost:8080/",
          "height": 36
        },
        "id": "jhku17kDwAWv",
        "outputId": "854bc97d-2c81-4f26-e04d-74aec3961f52"
      },
      "execution_count": 15,
      "outputs": [
        {
          "output_type": "execute_result",
          "data": {
            "text/plain": [
              "'18193.97'"
            ],
            "application/vnd.google.colaboratory.intrinsic+json": {
              "type": "string"
            }
          },
          "metadata": {},
          "execution_count": 15
        }
      ]
    },
    {
      "cell_type": "code",
      "source": [
        "# ques 5\n",
        "def return_only_integer(l):\n",
        "  i = 0\n",
        "  while i < len(l):\n",
        "    if type(l[i])!=int:\n",
        "      l[i]='a'\n",
        "    i+=1\n",
        "  for i in range(l.count('a')):  \n",
        "    l.remove('a')\n",
        "  \n",
        "\n",
        "  return l  \n",
        "\n",
        "return_only_integer([9, 2, \"space\", \"car\", \"lion\", 16])"
      ],
      "metadata": {
        "colab": {
          "base_uri": "https://localhost:8080/"
        },
        "id": "VWDueKkZ2Sh5",
        "outputId": "790801fa-6e26-42c0-bb7e-dfa8305b5aec"
      },
      "execution_count": 50,
      "outputs": [
        {
          "output_type": "execute_result",
          "data": {
            "text/plain": [
              "[9, 2, 16]"
            ]
          },
          "metadata": {},
          "execution_count": 50
        }
      ]
    },
    {
      "cell_type": "code",
      "source": [],
      "metadata": {
        "id": "MsYBw1EO91CW"
      },
      "execution_count": null,
      "outputs": []
    }
  ]
}