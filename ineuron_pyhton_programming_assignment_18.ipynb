{
  "nbformat": 4,
  "nbformat_minor": 0,
  "metadata": {
    "colab": {
      "provenance": []
    },
    "kernelspec": {
      "name": "python3",
      "display_name": "Python 3"
    },
    "language_info": {
      "name": "python"
    }
  },
  "cells": [
    {
      "cell_type": "markdown",
      "source": [
        "#Python Programme Assignment 18"
      ],
      "metadata": {
        "id": "IDiBiXZuOgBW"
      }
    },
    {
      "cell_type": "markdown",
      "source": [
        "1. *Create* a function that takes a list of non-negative integers and strings and return a new list\n",
        "without the strings.\n",
        "\n",
        "2. The &quot;Reverser&quot; takes a string as input and returns that string in reverse order, with the\n",
        "opposite case.\n",
        "\n",
        "3. You can assign variables from lists like this:\n",
        ">  lst = [1, 2, 3, 4, 5, 6]\n",
        ">- first = lst[0]\n",
        ">- middle = lst[1:-1]\n",
        ">- last = lst[-1]\n",
        ">- print(first) ➞ outputs 1\n",
        ">- print(middle) ➞ outputs [2, 3, 4, 5]\n",
        ">- print(last) ➞ outputs 6\n",
        "- With Python 3, you can assign variables from lists in a much more succinct way. Create\n",
        "variables first, middle and last from the given list using destructuring assignment\n",
        "> (check the Resources tab for some examples), where:\n",
        ">- first ➞ 1\n",
        ">- middle ➞ [2, 3, 4, 5]\n",
        ">- last ➞ 6\n",
        "\n",
        "> Your task is to unpack the list writeyourcodehere into three variables, being first,\n",
        "middle, and last, with middle being everything in between the first and last element. Then\n",
        "print all three variables.\n",
        "\n",
        "\n",
        "\n",
        "4. Write a function that calculates the factorial of a number recursively.\n",
        "\n",
        "5. Write a function that moves all elements of one type to the end of the list."
      ],
      "metadata": {
        "id": "Aq-3lMfSOc8k"
      }
    },
    {
      "cell_type": "code",
      "source": [
        "# ques 1\n",
        "\n",
        "def filter_list(l):\n",
        "  m = []\n",
        "  for i in l:\n",
        "    if type(i) == int:\n",
        "      m.append(i)\n",
        "\n",
        "  return m\n",
        "\n",
        "\n",
        "filter_list([1, 2,'a', 'b'])"
      ],
      "metadata": {
        "id": "F9slvCeXPX1k",
        "colab": {
          "base_uri": "https://localhost:8080/"
        },
        "outputId": "34c0d3ff-5e2a-4bf7-d562-ea1be7fb9ef5"
      },
      "execution_count": 3,
      "outputs": [
        {
          "output_type": "execute_result",
          "data": {
            "text/plain": [
              "[1, 2]"
            ]
          },
          "metadata": {},
          "execution_count": 3
        }
      ]
    },
    {
      "cell_type": "code",
      "source": [
        "# ques 2\n",
        "\n",
        "def reverse(word):\n",
        "   return  word.swapcase()[::-1]\n",
        "  \n",
        "\n",
        "\n",
        "\n",
        "reverse('Hello World')"
      ],
      "metadata": {
        "colab": {
          "base_uri": "https://localhost:8080/",
          "height": 36
        },
        "id": "MkDOPLGEUcNi",
        "outputId": "abce9dbc-9a68-4a60-d0f8-5881923dc6da"
      },
      "execution_count": 9,
      "outputs": [
        {
          "output_type": "execute_result",
          "data": {
            "text/plain": [
              "'DLROw OLLEh'"
            ],
            "application/vnd.google.colaboratory.intrinsic+json": {
              "type": "string"
            }
          },
          "metadata": {},
          "execution_count": 9
        }
      ]
    },
    {
      "cell_type": "code",
      "source": [
        "# ques 3\n",
        "\n",
        "lst = [1, 2, 3, 4, 5, 6]\n",
        "\n",
        "first,*middle,last = lst\n",
        "print(' first : ',first,'\\n middle : ',middle,'\\n last : ',last)\n"
      ],
      "metadata": {
        "colab": {
          "base_uri": "https://localhost:8080/"
        },
        "id": "6sdyYEL4ViQy",
        "outputId": "9101b2a6-d2b1-49d5-841d-d4c0b88d3201"
      },
      "execution_count": 26,
      "outputs": [
        {
          "output_type": "stream",
          "name": "stdout",
          "text": [
            " first :  1 \n",
            " middle :  [2, 3, 4, 5] \n",
            " last :  6\n"
          ]
        }
      ]
    },
    {
      "cell_type": "code",
      "source": [
        "# ques 4\n",
        "\n",
        "def factorial(num):\n",
        "  if num ==0:\n",
        "    return 1\n",
        "  else:\n",
        "    return num*factorial(num-1)\n",
        "\n",
        "factorial(5)      "
      ],
      "metadata": {
        "colab": {
          "base_uri": "https://localhost:8080/"
        },
        "id": "g5IwqVo1WDiG",
        "outputId": "a8391fb0-046d-4c12-94f6-f754051ecf5f"
      },
      "execution_count": 29,
      "outputs": [
        {
          "output_type": "execute_result",
          "data": {
            "text/plain": [
              "120"
            ]
          },
          "metadata": {},
          "execution_count": 29
        }
      ]
    },
    {
      "cell_type": "code",
      "source": [
        "# ques 5\n",
        "\n",
        "def move_to_end(list1,num):\n",
        "  for i in list1:\n",
        "    if i == num:\n",
        "      list1.remove(i)\n",
        "      list1.append(i)\n",
        "  return list1   \n",
        "\n",
        "\n",
        "\n",
        "move_to_end([7, 8, 9, 1, 2, 3, 4], 9)\n",
        "move_to_end([1, 3, 2, 4, 4, 1], 1)\n",
        "move_to_end(['a', 'a', 'a','a', 'c', 'b'], 'a')"
      ],
      "metadata": {
        "colab": {
          "base_uri": "https://localhost:8080/"
        },
        "id": "q5l8i-2hXfiv",
        "outputId": "5b9dc51d-250e-4b02-bdb6-9f78ee82ff10"
      },
      "execution_count": 34,
      "outputs": [
        {
          "output_type": "execute_result",
          "data": {
            "text/plain": [
              "['c', 'b', 'a', 'a', 'a', 'a']"
            ]
          },
          "metadata": {},
          "execution_count": 34
        }
      ]
    },
    {
      "cell_type": "code",
      "source": [],
      "metadata": {
        "id": "J0ao8S0Banb0"
      },
      "execution_count": null,
      "outputs": []
    }
  ]
}