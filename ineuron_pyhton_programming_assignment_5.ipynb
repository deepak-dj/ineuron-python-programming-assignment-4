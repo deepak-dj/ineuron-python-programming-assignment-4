{
  "nbformat": 4,
  "nbformat_minor": 0,
  "metadata": {
    "colab": {
      "provenance": [],
      "collapsed_sections": []
    },
    "kernelspec": {
      "name": "python3",
      "display_name": "Python 3"
    },
    "language_info": {
      "name": "python"
    }
  },
  "cells": [
    {
      "cell_type": "code",
      "execution_count": null,
      "metadata": {
        "id": "qHwniDOKCGM3"
      },
      "outputs": [],
      "source": []
    },
    {
      "cell_type": "markdown",
      "source": [
        "# Python programming assignment 5\n",
        "\n",
        "\n",
        "\n",
        "\\\n",
        "\n"
      ],
      "metadata": {
        "id": "qnVRtD9PCICZ"
      }
    },
    {
      "cell_type": "markdown",
      "source": [
        "1. Write a Python Program to Find LCM?\n",
        "2. Write a Python Program to Find HCF?\n",
        "3. Write a Python Program to Convert Decimal to Binary, Octal and Hexadecimal?\n",
        "4. Write a Python Program To Find ASCII value of a character?\n",
        "5. Write a Python Program to Make a Simple Calculator with 4 basic mathematical operations?"
      ],
      "metadata": {
        "id": "33SlTIETCGwd"
      }
    },
    {
      "cell_type": "code",
      "source": [
        "# ques 1\n",
        "def lcm(x,y):\n",
        "   if x > y:\n",
        "       greater = x\n",
        "   else:\n",
        "       greater = y\n",
        "\n",
        "   while(True):\n",
        "       if((greater % x == 0) and (greater % y == 0)):\n",
        "           l = greater\n",
        "           break\n",
        "       greater += 1\n",
        "\n",
        "   return f'the lcm of {x},{y} is : {l}' \n",
        "\n",
        "lcm(9,5)   \n"
      ],
      "metadata": {
        "colab": {
          "base_uri": "https://localhost:8080/",
          "height": 35
        },
        "id": "3oUtwHrKCYIT",
        "outputId": "e548bd34-a471-47b6-dc99-eff3a69ee7e9"
      },
      "execution_count": 12,
      "outputs": [
        {
          "output_type": "execute_result",
          "data": {
            "text/plain": [
              "'the lcm of 9,5 is : 45'"
            ],
            "application/vnd.google.colaboratory.intrinsic+json": {
              "type": "string"
            }
          },
          "metadata": {},
          "execution_count": 12
        }
      ]
    },
    {
      "cell_type": "code",
      "source": [
        "# ques 2\n",
        "\n",
        "def hcf(x,y):\n",
        "   if x<y:\n",
        "     lower = x\n",
        "   else:\n",
        "     lower = y\n",
        "   while(True):\n",
        "      if (y % lower == 0) and (x % lower==0):\n",
        "        s = lower\n",
        "        break\n",
        "      lower -= 1  \n",
        "   return f'the hcf of {x},{y} is : {s}'   \n",
        "\n",
        "hcf(24,54)   "
      ],
      "metadata": {
        "colab": {
          "base_uri": "https://localhost:8080/",
          "height": 35
        },
        "id": "xNswPEZyGsVC",
        "outputId": "5b9662c7-beea-46f6-e2cc-a6f078171810"
      },
      "execution_count": 11,
      "outputs": [
        {
          "output_type": "execute_result",
          "data": {
            "text/plain": [
              "'the hcf of 24,54 is : 6'"
            ],
            "application/vnd.google.colaboratory.intrinsic+json": {
              "type": "string"
            }
          },
          "metadata": {},
          "execution_count": 11
        }
      ]
    },
    {
      "cell_type": "code",
      "source": [
        "# ques 3\n",
        "def binary(num):\n",
        "  print (f'converting decimal {num} to binary {bin(num)} \\nconverting decimal {num} to octal {oct(num)} \\nconverting decimal {num} to ocal {hex(num)}')\n",
        "\n",
        "binary(19)  "
      ],
      "metadata": {
        "colab": {
          "base_uri": "https://localhost:8080/"
        },
        "id": "xx-pMAu7IiU8",
        "outputId": "1ae6112b-8100-4c72-f617-ad397e4aa4ad"
      },
      "execution_count": 29,
      "outputs": [
        {
          "output_type": "stream",
          "name": "stdout",
          "text": [
            "converting decimal 19 to binary 0b10011 \n",
            "converting decimal 19 to octal 0o23 \n",
            "converting decimal 19 to ocal 0x13\n"
          ]
        }
      ]
    },
    {
      "cell_type": "code",
      "source": [
        "# ques 4\n",
        "def asci_char(text):\n",
        "  return f' the ascii value of {text} is : {ord(text)}'\n",
        "\n",
        "asci_char('v')"
      ],
      "metadata": {
        "colab": {
          "base_uri": "https://localhost:8080/",
          "height": 35
        },
        "id": "efBpYjsIKZMT",
        "outputId": "7e6c0c59-7fba-4cc3-a8b4-63828b970660"
      },
      "execution_count": 37,
      "outputs": [
        {
          "output_type": "execute_result",
          "data": {
            "text/plain": [
              "' the ascii value of v is : 118'"
            ],
            "application/vnd.google.colaboratory.intrinsic+json": {
              "type": "string"
            }
          },
          "metadata": {},
          "execution_count": 37
        }
      ]
    },
    {
      "cell_type": "code",
      "source": [
        "# ques 5\n",
        "def sum (a,b):\n",
        "  return a+b\n",
        "\n",
        "def sub(a,b):\n",
        "  return a-b\n",
        "\n",
        "def mul(a,b):\n",
        "  return a*b\n",
        "\n",
        "def div(a,b):\n",
        "  return a/b     \n",
        "\n",
        "print(' WELCOME TO MATH CALCIE '.center(40,'#'))\n",
        "print(f'select operation \\n1. plus \\n2. minus \\n3. multiply \\n4. divide')\n",
        "while True:\n",
        "   \n",
        "   c = float(input('enter your choice number 1/2/3/4 : ')) \n",
        "   a = float(input('enter 1st number : '))\n",
        "   b = float(input('enter 2st number : '))\n",
        "   \n",
        "   if c == 1:\n",
        "     print(f'sum of {a}+{b} = {sum(a,b)}')\n",
        "   elif c == 2:\n",
        "     print(f'substraction of {a}-{b} = {sub(a,b)}')\n",
        "   elif c == 3:\n",
        "     print(f'multiplication of {a}x{b} = {mul(a,b)}')\n",
        "   elif c == 4:\n",
        "     print(f'division of {a}/{b} ={div(a,b)}')   \n",
        "   else:\n",
        "     print('operation is not available')\n",
        "   print()\n",
        "   i = input('do you want to perform next operaion?? yes/no : ')\n",
        "   if i=='no':\n",
        "     print(' closing the calculator '.center(40,'-'))\n",
        "     break   \n",
        "\n",
        "\n",
        "\n",
        "\n",
        "\n",
        "\n"
      ],
      "metadata": {
        "colab": {
          "base_uri": "https://localhost:8080/"
        },
        "id": "TsbOAbn_LPCu",
        "outputId": "ed9f35fc-b4ce-4752-e0c4-a224e53813a6"
      },
      "execution_count": 9,
      "outputs": [
        {
          "output_type": "stream",
          "name": "stdout",
          "text": [
            "######## WELCOME TO MATH CALCIE ########\n",
            "select operation \n",
            "1. plus \n",
            "2. minus \n",
            "3. multiply \n",
            "4. divide\n",
            "enter your choice number 1/2/3/4 : 4\n",
            "enter 1st number : 100\n",
            "enter 2st number : 10\n",
            "division of 100.0/10.0 =10.0\n",
            "\n",
            "do you want to perform next operaion?? yes/no : no\n",
            "-------- closing the calculator --------\n"
          ]
        }
      ]
    },
    {
      "cell_type": "code",
      "source": [],
      "metadata": {
        "id": "A4CEA1lEM4Zc"
      },
      "execution_count": 4,
      "outputs": []
    },
    {
      "cell_type": "code",
      "source": [],
      "metadata": {
        "id": "un4Ou5mvUEKk"
      },
      "execution_count": null,
      "outputs": []
    }
  ]
}