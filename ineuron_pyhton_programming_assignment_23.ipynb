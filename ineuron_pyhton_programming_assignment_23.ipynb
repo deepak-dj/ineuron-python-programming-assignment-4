{
  "nbformat": 4,
  "nbformat_minor": 0,
  "metadata": {
    "colab": {
      "provenance": []
    },
    "kernelspec": {
      "name": "python3",
      "display_name": "Python 3"
    },
    "language_info": {
      "name": "python"
    }
  },
  "cells": [
    {
      "cell_type": "markdown",
      "source": [
        "#Python Programme Assignment 23"
      ],
      "metadata": {
        "id": "KZ0Y1mFAGVPO"
      }
    },
    {
      "cell_type": "markdown",
      "source": [
        "1. Create a function that takes a number as an argument and returns True or False depending\n",
        "on whether the number is symmetrical or not. A number is symmetrical when it is the same as\n",
        "its reverse.\n",
        "- Examples\n",
        "> is_symmetrical(7227) ➞ True\n",
        "\n",
        "2. Given a string of numbers separated by a comma and space, return the product of the\n",
        "numbers.\n",
        "- Examples\n",
        "> multiply_nums(&quot;2, 3&quot;) ➞ 6\n",
        "\n",
        "3. Create a function that squares every digit of a number.\n",
        "- Examples\n",
        "> square_digits(9119) ➞ 811181\n",
        "\n",
        "4. Create a function that sorts a list and removes all duplicate items from it.\n",
        "- Examples\n",
        "> setify([1, 3, 3, 5, 5]) ➞ [1, 3, 5]\n",
        "\n",
        "5. Create a function that returns the mean of all digits.\n",
        "- Examples\n",
        "> mean(42) ➞ 3"
      ],
      "metadata": {
        "id": "EQ6CSNG7AAbX"
      }
    },
    {
      "cell_type": "code",
      "source": [
        "# ques 1\n",
        "\n",
        "def is_symmetrical(data):\n",
        "  data = str(data)\n",
        "  \n",
        "  if data == data[::-1]:\n",
        "    return True\n",
        "  return False\n",
        "\n",
        "\n",
        "is_symmetrical(7227) \n"
      ],
      "metadata": {
        "colab": {
          "base_uri": "https://localhost:8080/"
        },
        "id": "DE5dX0gpAich",
        "outputId": "d7a18ad3-2fdf-417c-9145-a661324c12e4"
      },
      "execution_count": 15,
      "outputs": [
        {
          "output_type": "execute_result",
          "data": {
            "text/plain": [
              "True"
            ]
          },
          "metadata": {},
          "execution_count": 15
        }
      ]
    },
    {
      "cell_type": "code",
      "source": [
        "# ques 2\n",
        "\n",
        "def multiply_nums(data):\n",
        "  d = data.split(',')\n",
        "  m=1\n",
        "  for i in d:\n",
        "    m*=int(i)\n",
        "  return m  \n",
        "    \n",
        "\n",
        "multiply_nums(\"2, 3, 4\")"
      ],
      "metadata": {
        "colab": {
          "base_uri": "https://localhost:8080/"
        },
        "id": "rLU2Nld5A57B",
        "outputId": "712e2fcf-4254-4dec-937b-d604d5479ad2"
      },
      "execution_count": 13,
      "outputs": [
        {
          "output_type": "execute_result",
          "data": {
            "text/plain": [
              "24"
            ]
          },
          "metadata": {},
          "execution_count": 13
        }
      ]
    },
    {
      "cell_type": "code",
      "source": [
        "# ques 3\n",
        "\n",
        "def square_digits(digit):\n",
        "      d1 = str(digit)\n",
        "      d = ''\n",
        "      for i in range(len(d1)):\n",
        "        a =int(d1[i])**2\n",
        "        d+= str(a)\n",
        "      return int(d)\n",
        "square_digits(9119)\n",
        "square_digits(2483)"
      ],
      "metadata": {
        "colab": {
          "base_uri": "https://localhost:8080/"
        },
        "id": "y-Okb2B7CBZI",
        "outputId": "4e1be7a9-14fb-42b5-f27b-daeae189be7a"
      },
      "execution_count": 24,
      "outputs": [
        {
          "output_type": "execute_result",
          "data": {
            "text/plain": [
              "416649"
            ]
          },
          "metadata": {},
          "execution_count": 24
        }
      ]
    },
    {
      "cell_type": "code",
      "source": [
        "# ques 4\n",
        "\n",
        "def setify(l):\n",
        "  m = set(l)\n",
        "  return list(m)\n",
        "\n",
        "setify([4, 4, 4, 4])\n"
      ],
      "metadata": {
        "colab": {
          "base_uri": "https://localhost:8080/"
        },
        "id": "WEEX6QmaC_SB",
        "outputId": "deeca4ce-3cd1-42a6-d3ab-668fef076dc0"
      },
      "execution_count": 27,
      "outputs": [
        {
          "output_type": "execute_result",
          "data": {
            "text/plain": [
              "[4]"
            ]
          },
          "metadata": {},
          "execution_count": 27
        }
      ]
    },
    {
      "cell_type": "code",
      "source": [
        "# ques 5\n",
        "\n",
        "def mean(num):\n",
        "  n = str(num)\n",
        "  m = 0\n",
        "  for i in n:\n",
        "    m += int(i)\n",
        "  return int(m/len(n))  \n",
        "\n",
        "\n",
        "mean(12345)"
      ],
      "metadata": {
        "colab": {
          "base_uri": "https://localhost:8080/"
        },
        "id": "glYBTDiUFZbs",
        "outputId": "e19b3bd0-c48d-4fbe-95df-5afc74dc8750"
      },
      "execution_count": 30,
      "outputs": [
        {
          "output_type": "execute_result",
          "data": {
            "text/plain": [
              "3"
            ]
          },
          "metadata": {},
          "execution_count": 30
        }
      ]
    },
    {
      "cell_type": "code",
      "source": [],
      "metadata": {
        "id": "GmFmMrsvF_IJ"
      },
      "execution_count": null,
      "outputs": []
    }
  ]
}