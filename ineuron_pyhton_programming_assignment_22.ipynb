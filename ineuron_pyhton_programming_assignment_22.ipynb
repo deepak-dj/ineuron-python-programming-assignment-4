{
  "nbformat": 4,
  "nbformat_minor": 0,
  "metadata": {
    "colab": {
      "provenance": []
    },
    "kernelspec": {
      "name": "python3",
      "display_name": "Python 3"
    },
    "language_info": {
      "name": "python"
    }
  },
  "cells": [
    {
      "cell_type": "markdown",
      "source": [
        "#Python Programme Assignment 22"
      ],
      "metadata": {
        "id": "-5tHzHXocPk3"
      }
    },
    {
      "cell_type": "markdown",
      "source": [
        "1. Create a function that takes three parameters where:\n",
        "- x is the start of the range (inclusive).\n",
        "- y is the end of the range (inclusive).\n",
        "- n is the divisor to be checked against.\n",
        "> Return an ordered list with numbers in the range that are divisible by the third parameter n.\n",
        "Return an empty list if there are no numbers that are divisible by n.\n",
        "> Examples\n",
        ">- list_operation(1, 10, 3) ➞ [3, 6, 9]\n",
        "\n",
        "2. Create a function that takes in two lists and returns True if the second list follows the first list\n",
        "by one element, and False otherwise. In other words, determine if the second list is the first\n",
        "list shifted to the right by 1.\n",
        "> Examples\n",
        ">- simon_says([1, 2], [5, 1]) ➞ True\n",
        "\n",
        "3. A group of friends have decided to start a secret society. The name will be the first letter of\n",
        "each of their names, sorted in alphabetical order.\n",
        "Create a function that takes in a list of names and returns the name of the secret society.\n",
        "\n",
        "> Examples\n",
        ">- society_name([&quot;Adam&quot;, &quot;Sarah&quot;, &quot;Malcolm&quot;]) ➞ &quot;AMS&quot;\n",
        ">- society_name([&quot;Phoebe&quot;, &quot;Chandler&quot;, &quot;Rachel&quot;, &quot;Ross&quot;, &quot;Monica&quot;, &quot;Joey&quot;])\n",
        "\n",
        "4. An isogram is a word that has no duplicate letters. Create a function that takes a string and\n",
        "returns either True or False depending on whether or not it&#39;s an &quot;isogram&quot;.\n",
        "> Examples\n",
        ">- is_isogram(&quot;Algorism&quot;) ➞ True\n",
        ">- is_isogram(&quot;PasSword&quot;) ➞ False\n",
        "\n",
        "5. Create a function that takes a string and returns True or False, depending on whether the\n",
        "characters are in order or not.\n",
        "> Examples\n",
        ">- is_in_order(&quot;abc&quot;) ➞ True\n",
        ">- is_in_order(&quot;edabit&quot;) ➞ False"
      ],
      "metadata": {
        "id": "gRLTU_E7Mxe1"
      }
    },
    {
      "cell_type": "code",
      "source": [
        "# ques 1   \n",
        "\n",
        "def list_operation(start,end,div):\n",
        "  l=[]\n",
        "  for i in range(start,end):\n",
        "    if i%div==0:\n",
        "      l.append(i)\n",
        "\n",
        "  return l    \n",
        "\n",
        "\n",
        "list_operation(1, 10, 3)"
      ],
      "metadata": {
        "colab": {
          "base_uri": "https://localhost:8080/"
        },
        "id": "xVwrvII_M62h",
        "outputId": "d90c00a6-51f8-4885-a17a-e154846c0622"
      },
      "execution_count": 2,
      "outputs": [
        {
          "output_type": "execute_result",
          "data": {
            "text/plain": [
              "[3, 6, 9]"
            ]
          },
          "metadata": {},
          "execution_count": 2
        }
      ]
    },
    {
      "cell_type": "code",
      "source": [
        "# ques 2\n",
        "def simon_says(l1,l2):\n",
        "  for i in range(len(l1)-1):\n",
        "      if l1[i]==l2[i+1]:\n",
        "        return True\n",
        "      else:\n",
        "        return False  \n",
        "\n",
        "\n",
        "simon_says([1, 2], [5, 1])\n",
        "simon_says([1, 2], [5, 5])\n",
        "simon_says([1, 2, 3, 4, 5], [0, 1, 2, 3, 4])\n",
        "simon_says([1, 2, 3, 4, 5], [5, 5, 1, 2, 3])"
      ],
      "metadata": {
        "colab": {
          "base_uri": "https://localhost:8080/"
        },
        "id": "CN-dEBHxY1Qh",
        "outputId": "e9b7d094-7455-4dd6-b816-79a3fc4be4cc"
      },
      "execution_count": 11,
      "outputs": [
        {
          "output_type": "execute_result",
          "data": {
            "text/plain": [
              "False"
            ]
          },
          "metadata": {},
          "execution_count": 11
        }
      ]
    },
    {
      "cell_type": "code",
      "source": [
        "# ques 3\n",
        "def society_name(l):\n",
        "  s=''\n",
        "  for i in range(len(l)):\n",
        "    l.sort()\n",
        "    s+=l[i][0]\n",
        "    \n",
        "  return s\n",
        "\n",
        "\n",
        "society_name([\"Adam\", \"Sarah\", \"Malcolm\"])\n",
        "society_name([\"Phoebe\", \"Chandler\", \"Rachel\", \"Ross\", \"Monica\", \"Joey\"])"
      ],
      "metadata": {
        "colab": {
          "base_uri": "https://localhost:8080/",
          "height": 36
        },
        "id": "E-OPAxCqtzUo",
        "outputId": "2e897ca9-6c1a-41d2-d9b8-698e4d29fc10"
      },
      "execution_count": 17,
      "outputs": [
        {
          "output_type": "execute_result",
          "data": {
            "text/plain": [
              "'CJMPRR'"
            ],
            "application/vnd.google.colaboratory.intrinsic+json": {
              "type": "string"
            }
          },
          "metadata": {},
          "execution_count": 17
        }
      ]
    },
    {
      "cell_type": "code",
      "source": [
        "# ques 4\n",
        "\n",
        "def is_isogram(string):\n",
        "  s= string.lower()\n",
        "  c = 0\n",
        "  for i in s:\n",
        "    if s.count(i) > 1:\n",
        "      c += 1\n",
        "  if c==0:\n",
        "    return True\n",
        "  else:\n",
        "    return False  \n",
        "   \n",
        "\n",
        "print('\"Algorism\" is isogram : ',is_isogram(\"Algorism\"))\n",
        "print('\"PaSsword\" is isogram : ',is_isogram(\"PasSword\"))\n",
        "\n"
      ],
      "metadata": {
        "colab": {
          "base_uri": "https://localhost:8080/"
        },
        "id": "t3x4IBQlz9GK",
        "outputId": "002e4ceb-85e4-4d95-8b20-4934b85a2831"
      },
      "execution_count": 56,
      "outputs": [
        {
          "output_type": "stream",
          "name": "stdout",
          "text": [
            "\"Algorism\" is isogram :  True\n",
            "\"PaSsword\" is isogram :  False\n"
          ]
        }
      ]
    },
    {
      "cell_type": "code",
      "source": [
        "# ques 5\n",
        "\n",
        "def is_in_order(string):\n",
        "\n",
        "  if string == ''.join(sorted(string)):\n",
        "    return True\n",
        "  else:\n",
        "    return False   \n",
        "\n",
        "\n",
        "print('\"abc \"is in order : ',is_in_order(\"abc\"))\n",
        "print('\"edabit\" is in order : ',is_in_order(\"edabit\")) \n",
        "    "
      ],
      "metadata": {
        "colab": {
          "base_uri": "https://localhost:8080/"
        },
        "id": "f9H9zAfK1OmF",
        "outputId": "735c72aa-6295-4b00-8dd8-e10b15bc9509"
      },
      "execution_count": 65,
      "outputs": [
        {
          "output_type": "stream",
          "name": "stdout",
          "text": [
            "\"abc \"is in order :  True\n",
            "\"edabit\" is in order :  False\n"
          ]
        }
      ]
    },
    {
      "cell_type": "code",
      "source": [],
      "metadata": {
        "id": "yHQgeN_j570T"
      },
      "execution_count": 61,
      "outputs": []
    }
  ]
}