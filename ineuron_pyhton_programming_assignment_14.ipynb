{
  "nbformat": 4,
  "nbformat_minor": 0,
  "metadata": {
    "colab": {
      "provenance": []
    },
    "kernelspec": {
      "name": "python3",
      "display_name": "Python 3"
    },
    "language_info": {
      "name": "python"
    }
  },
  "cells": [
    {
      "cell_type": "markdown",
      "source": [
        "# Python Programme Assignment 14\n"
      ],
      "metadata": {
        "id": "1C2tgMNVEri1"
      }
    },
    {
      "cell_type": "markdown",
      "source": [
        "\n",
        "\n",
        "Question 1:\n",
        "Define a class with a generator which can iterate the numbers, which are divisible by\n",
        "7, between a given range 0 and n.\n",
        "\n",
        "Question 2:\n",
        "Write a program to compute the frequency of the words from the input. The output\n",
        "should output after sorting the key alphanumerically.\n",
        "Suppose the following input is supplied to the program:\n",
        "New to Python or choosing between Python 2 and Python 3? Read Python 2 or\n",
        "Python 3.\n",
        "Then, the output should be:\n",
        "2:2\n",
        "3.:1\n",
        "3?:1\n",
        "New:1\n",
        "Python:5\n",
        "Read:1\n",
        "and:1\n",
        "between:1\n",
        "choosing:1\n",
        "or:2\n",
        "to:1\n",
        "\n",
        "Question 3:\n",
        "\n",
        "Define a class Person and its two child classes: Male and Female. All classes have a\n",
        "method &quot;getGender&quot; which can print &quot;Male&quot; for Male class and &quot;Female&quot; for Female\n",
        "class.\n",
        "\n",
        "Question 4:\n",
        "Please write a program to generate all sentences where subject is in [&quot;I&quot;, &quot;You&quot;] and\n",
        "verb is in [&quot;Play&quot;, &quot;Love&quot;] and the object is in [&quot;Hockey&quot;,&quot;Football&quot;].\n",
        "\n",
        "Question 5:\n",
        "Please write a program to compress and decompress the string &quot;hello world!hello\n",
        "world!hello world!hello world!&quot;.\n",
        "\n",
        "Question 6:\n",
        "Please write a binary search function which searches an item in a sorted list. The\n",
        "function should return the index of element to be searched in the list."
      ],
      "metadata": {
        "id": "a9-sKx95Eo9o"
      }
    },
    {
      "cell_type": "code",
      "source": [
        " # ques 1\n",
        "\n",
        "\n",
        "def gen(n):\n",
        "    for i in range(n):\n",
        "      if i%7==0:\n",
        "        yield i\n",
        "\n",
        "l = gen(100)\n",
        "for i in l:\n",
        "  print(i)"
      ],
      "metadata": {
        "colab": {
          "base_uri": "https://localhost:8080/"
        },
        "id": "H-4f0z57E2aa",
        "outputId": "4f44b9dd-0716-4edd-d621-ebd3af085951"
      },
      "execution_count": null,
      "outputs": [
        {
          "output_type": "stream",
          "name": "stdout",
          "text": [
            "0\n",
            "7\n",
            "14\n",
            "21\n",
            "28\n",
            "35\n",
            "42\n",
            "49\n",
            "56\n",
            "63\n",
            "70\n",
            "77\n",
            "84\n",
            "91\n",
            "98\n"
          ]
        }
      ]
    },
    {
      "cell_type": "code",
      "source": [
        "# ques 2\n",
        "\n",
        "s = 'New to Python or choosing between Python 2 and Python 3? Read Python 2 or Python 3.'\n",
        "l = sorted(s.split())\n",
        "c = 0\n",
        "d = {}\n",
        "for v in l:\n",
        "   d[v]=l.count(v)\n",
        "\n",
        "for k,v in d.items():\n",
        "  print(k,':',v)"
      ],
      "metadata": {
        "id": "EFbhSZqtRMwh",
        "colab": {
          "base_uri": "https://localhost:8080/"
        },
        "outputId": "6deebb98-01e1-4575-a9ba-a30be26e6c2f"
      },
      "execution_count": null,
      "outputs": [
        {
          "output_type": "stream",
          "name": "stdout",
          "text": [
            "2 : 2\n",
            "3. : 1\n",
            "3? : 1\n",
            "New : 1\n",
            "Python : 5\n",
            "Read : 1\n",
            "and : 1\n",
            "between : 1\n",
            "choosing : 1\n",
            "or : 2\n",
            "to : 1\n"
          ]
        }
      ]
    },
    {
      "cell_type": "code",
      "source": [
        "# ques 3\n",
        "\n",
        "class Person(object):\n",
        "    def getGender( self ):\n",
        "        return \"xyz\"\n",
        "\n",
        "class Male( Person ):\n",
        "    def getGender( self ):\n",
        "        return \"Male\"\n",
        "\n",
        "class Female( Person ):\n",
        "    def getGender( self ):\n",
        "        return \"Female\"\n",
        "\n",
        "m = Male()\n",
        "print(m.getGender())  \n",
        "print()\n",
        "f = Female()      \n",
        "print(f.getGender())"
      ],
      "metadata": {
        "id": "pRfJJziDTpg-",
        "colab": {
          "base_uri": "https://localhost:8080/"
        },
        "outputId": "6ee6e7fa-8f97-4de3-cdf5-e73996467935"
      },
      "execution_count": null,
      "outputs": [
        {
          "output_type": "stream",
          "name": "stdout",
          "text": [
            "Male\n",
            "\n",
            "Female\n"
          ]
        }
      ]
    },
    {
      "cell_type": "code",
      "source": [
        "# ques 4\n",
        "import random\n",
        "\n",
        "subject = [\"I\", \"You\"] \n",
        "verb = [\"Play\", \"Love\"] \n",
        "objects = [\"Hockey\",\"Football\"]\n",
        "\n",
        "l = []\n",
        "n = 0\n",
        "\n",
        "while len(l) != 2**3:  \n",
        "  sentence = random.choice(subject)+' '+random.choice(verb)+' '+random.choice(objects)\n",
        "  if sentence not in l:\n",
        "    l.append(sentence)\n",
        "  n += 1\n",
        "for i in l:\n",
        "  print(i)\n",
        "\n"
      ],
      "metadata": {
        "colab": {
          "base_uri": "https://localhost:8080/"
        },
        "id": "y1L5jrBBWXaO",
        "outputId": "5d45686a-83cf-4d22-9e3c-7e13e96f1c41"
      },
      "execution_count": 16,
      "outputs": [
        {
          "output_type": "stream",
          "name": "stdout",
          "text": [
            "I Love Hockey\n",
            "You Play Football\n",
            "I Love Football\n",
            "You Love Hockey\n",
            "I Play Hockey\n",
            "You Love Football\n",
            "I Play Football\n",
            "You Play Hockey\n"
          ]
        }
      ]
    },
    {
      "cell_type": "code",
      "source": [
        "# ques 5\n",
        "\n",
        "import gzip\n",
        "s = b'hello world!hello world!hello world!hello world!'\n",
        "s = gzip.compress(s) \n",
        "\n",
        "t = gzip.decompress(s)\n",
        "print(t)"
      ],
      "metadata": {
        "colab": {
          "base_uri": "https://localhost:8080/"
        },
        "id": "h6X8Z0fSjFJ7",
        "outputId": "e364e22b-78ae-4773-e3d4-2b24e7d5ba37"
      },
      "execution_count": null,
      "outputs": [
        {
          "output_type": "stream",
          "name": "stdout",
          "text": [
            "b'hello world!hello world!hello world!hello world!'\n"
          ]
        }
      ]
    },
    {
      "cell_type": "code",
      "source": [
        "# ques 6\n",
        "def binary_search(list1, n):  \n",
        "    low = 0  \n",
        "    high = len(list1) - 1  \n",
        "    mid = 0  \n",
        "  \n",
        "    while low <= high:  \n",
        "          \n",
        "        mid = (high + low) // 2  \n",
        "  \n",
        "        if list1[mid] < n:  \n",
        "            low = mid + 1    \n",
        "        elif list1[mid] > n:  \n",
        "            high = mid - 1  \n",
        "        else:  \n",
        "            return mid  \n",
        "    return -1  \n",
        "  \n",
        "  \n",
        "list1 = [12, 24, 32, 39, 45, 50, 54]  \n",
        "n = 12 \n",
        "  \n",
        "result = binary_search(list1, n)          \n",
        "\n",
        "\n",
        "\n",
        "\n",
        "\n",
        "\n",
        "binary_search(list1,n)"
      ],
      "metadata": {
        "colab": {
          "base_uri": "https://localhost:8080/"
        },
        "id": "PikgTOuXne2l",
        "outputId": "33cfc54a-b18f-4526-955b-057fa3e8e62b"
      },
      "execution_count": 7,
      "outputs": [
        {
          "output_type": "execute_result",
          "data": {
            "text/plain": [
              "0"
            ]
          },
          "metadata": {},
          "execution_count": 7
        }
      ]
    },
    {
      "cell_type": "code",
      "source": [],
      "metadata": {
        "colab": {
          "base_uri": "https://localhost:8080/"
        },
        "id": "tBD9pbgdKLJb",
        "outputId": "4109421e-cfa0-41fa-faf4-bf158b7a8260"
      },
      "execution_count": null,
      "outputs": [
        {
          "output_type": "execute_result",
          "data": {
            "text/plain": [
              "2.0"
            ]
          },
          "metadata": {},
          "execution_count": 88
        }
      ]
    },
    {
      "cell_type": "code",
      "source": [],
      "metadata": {
        "id": "EcKY3iMqLPAA"
      },
      "execution_count": null,
      "outputs": []
    }
  ]
}