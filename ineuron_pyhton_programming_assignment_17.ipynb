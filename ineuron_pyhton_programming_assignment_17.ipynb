{
  "nbformat": 4,
  "nbformat_minor": 0,
  "metadata": {
    "colab": {
      "provenance": []
    },
    "kernelspec": {
      "name": "python3",
      "display_name": "Python 3"
    },
    "language_info": {
      "name": "python"
    }
  },
  "cells": [
    {
      "cell_type": "markdown",
      "source": [
        "#Python Programme Assignment 17"
      ],
      "metadata": {
        "id": "itQytbmjl_bq"
      }
    },
    {
      "cell_type": "markdown",
      "source": [
        "1. Create a function that takes three arguments a, b, c and returns the sum of the\n",
        "numbers that are evenly divided by c from the range a, b inclusive.\n",
        "\n",
        "\n",
        "2. Create a function that returns True if a given inequality expression is correct and\n",
        "False otherwise.\n",
        "\n",
        "\n",
        "3. Create a function that replaces all the vowels in a string with a specified character.\n",
        "\n",
        "\n",
        "4. Write a function that calculates the factorial of a number recursively.\n",
        "\n",
        "5. Hamming distance is the number of characters that differ between two strings.\n",
        "\n",
        "- To illustrate:\n",
        ">- String1: &quot;abcbba&quot;\n",
        ">- String2: &quot;abcbda&quot;\n",
        ">- Hamming Distance: 1 - &quot;b&quot; vs. &quot;d&quot; is the only difference.\n",
        ">- Create a function that computes the hamming distance between two strings."
      ],
      "metadata": {
        "id": "jn3nu7qzx1t6"
      }
    },
    {
      "cell_type": "code",
      "source": [
        "# ques 1\n",
        "\n",
        "def calcie(a,b,c):\n",
        "  sum = 0\n",
        "  for i in range(a,b+1):\n",
        "    if i % c == 0:\n",
        "      sum += i   \n",
        "\n",
        "  if sum !=0:\n",
        "    return sum\n",
        "  return f'No number from {a} to {b} can be evenly divided by {c}.'\n",
        "\n",
        "\n",
        "calcie(1,10,2)"
      ],
      "metadata": {
        "colab": {
          "base_uri": "https://localhost:8080/"
        },
        "id": "0_DUq3Y3yVx2",
        "outputId": "8266c1fe-dbbc-4749-e0d6-fddc5a4c949a"
      },
      "execution_count": 11,
      "outputs": [
        {
          "output_type": "execute_result",
          "data": {
            "text/plain": [
              "30"
            ]
          },
          "metadata": {},
          "execution_count": 11
        }
      ]
    },
    {
      "cell_type": "code",
      "source": [
        "# ques 2\n",
        "def equality(a,b,c,d=1):\n",
        "   if a > b and a > c and a > d:\n",
        "     print(a, 'a is greatest')\n",
        "   else:\n",
        "     if b > a and b > c and b > d:\n",
        "       print(b, 'b is greatest')\n",
        "     else:\n",
        "       if c > a and c > b and c > d:\n",
        "         print(c, 'c is greatest')\n",
        "       else:\n",
        "         print(d, 'd is greatest')  \n",
        "\n",
        "equality(1,3,2,7)\n"
      ],
      "metadata": {
        "colab": {
          "base_uri": "https://localhost:8080/"
        },
        "id": "KsH2amBC5Dw-",
        "outputId": "4929d07a-7de7-4e76-f1a2-50df6ee0b43c"
      },
      "execution_count": 13,
      "outputs": [
        {
          "output_type": "stream",
          "name": "stdout",
          "text": [
            "7 d is greatest\n"
          ]
        }
      ]
    },
    {
      "cell_type": "code",
      "source": [
        "# ques 2 \n",
        "\n",
        "\n",
        "def correct_signs(s):\n",
        "    exp = eval(s)\n",
        "    if exp:\n",
        "        return True\n",
        "    else:\n",
        "        return False \n",
        "        \n",
        "print(correct_signs('13 > 44 > 33 > 1'))\n",
        "print(correct_signs('1 < 2 < 6 < 9 > 3'))\n"
      ],
      "metadata": {
        "colab": {
          "base_uri": "https://localhost:8080/"
        },
        "id": "pyFCFmeQ-TJg",
        "outputId": "4ee0dd4d-6b77-4e33-ea28-e65761223086"
      },
      "execution_count": 185,
      "outputs": [
        {
          "output_type": "stream",
          "name": "stdout",
          "text": [
            "False\n",
            "True\n"
          ]
        }
      ]
    },
    {
      "cell_type": "code",
      "source": [
        "# ques 3\n",
        "\n",
        "def replace_vowels(data,r):\n",
        "  vowels = ['a','e','i','o','u']\n",
        "  new_s = ''\n",
        "  for i in range(len(data)):\n",
        "    if data[i] in vowels:\n",
        "        new_s += r\n",
        "    else:\n",
        "        new_s += data[i]\n",
        "  return new_s\n",
        "\n",
        "      \n",
        "\n",
        "replace_vowels('the eeardvar','#')"
      ],
      "metadata": {
        "colab": {
          "base_uri": "https://localhost:8080/",
          "height": 36
        },
        "id": "7nEOM0LSAY-a",
        "outputId": "dce1b9f3-335b-4617-9f07-2715f171b66f"
      },
      "execution_count": 222,
      "outputs": [
        {
          "output_type": "execute_result",
          "data": {
            "text/plain": [
              "'th# ###rdv#r'"
            ],
            "application/vnd.google.colaboratory.intrinsic+json": {
              "type": "string"
            }
          },
          "metadata": {},
          "execution_count": 222
        }
      ]
    },
    {
      "cell_type": "code",
      "source": [
        "# ques 4\n",
        "\n",
        "def factorial(n):\n",
        "  if n < 1:\n",
        "    return 1\n",
        "  else:\n",
        "    return n*factorial(n-1)\n",
        "\n",
        "factorial(5)      "
      ],
      "metadata": {
        "colab": {
          "base_uri": "https://localhost:8080/"
        },
        "id": "PkgvlJldDwAn",
        "outputId": "2c57139a-0f32-4f3a-ca84-43f421262471"
      },
      "execution_count": 224,
      "outputs": [
        {
          "output_type": "execute_result",
          "data": {
            "text/plain": [
              "120"
            ]
          },
          "metadata": {},
          "execution_count": 224
        }
      ]
    },
    {
      "cell_type": "code",
      "source": [
        "# ques 5\n",
        "def hamming_distance(d1,d2):\n",
        "  count = 0\n",
        "  for i in range(len(d1)):\n",
        "    if d1[i] != d2[i]:\n",
        "      count += 1  \n",
        "  return count\n",
        "\n",
        "\n",
        "\n",
        "hamming_distance('abcde','bcdef')"
      ],
      "metadata": {
        "colab": {
          "base_uri": "https://localhost:8080/"
        },
        "id": "r3KEiMUpHHKp",
        "outputId": "c1a5202e-c1e7-4632-e2af-d08a0e8de135"
      },
      "execution_count": 232,
      "outputs": [
        {
          "output_type": "execute_result",
          "data": {
            "text/plain": [
              "5"
            ]
          },
          "metadata": {},
          "execution_count": 232
        }
      ]
    }
  ]
}