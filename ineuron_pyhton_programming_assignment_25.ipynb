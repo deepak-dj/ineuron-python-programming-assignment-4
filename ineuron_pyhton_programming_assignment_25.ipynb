{
  "nbformat": 4,
  "nbformat_minor": 0,
  "metadata": {
    "colab": {
      "provenance": []
    },
    "kernelspec": {
      "name": "python3",
      "display_name": "Python 3"
    },
    "language_info": {
      "name": "python"
    }
  },
  "cells": [
    {
      "cell_type": "markdown",
      "source": [
        "#Python Programme Assignment 25"
      ],
      "metadata": {
        "id": "y5iW24eL8OaU"
      }
    },
    {
      "cell_type": "markdown",
      "source": [
        "1. Create a function that takes three integer arguments (a, b, c) and returns the amount of\n",
        "integers which are of equal value.\n",
        "- Examples\n",
        ">- equal(3, 4, 3) ➞ 2\n",
        "\n",
        "- Notes:\n",
        "Your function must return 0, 2 or 3.\n",
        "\n",
        "2.Write a function that converts a dictionary into a list of keys-values tuples.\n",
        ">Examples\n",
        ">- dict_to_list({\n",
        "&quot;D&quot;: 1,\n",
        "&quot;B&quot;: 2,\n",
        "&quot;C&quot;: 3\n",
        "}) ➞ [(&quot;B&quot;, 2), (&quot;C&quot;, 3), (&quot;D&quot;, 1)]\n",
        "\n",
        "- Notes : \n",
        "Return the elements in the list in alphabetical order.\n",
        "\n",
        "\n",
        "3. Write a function that creates a dictionary with each (key, value) pair being the (lower case,\n",
        "upper case) versions of a letter, respectively.\n",
        "- Examples\n",
        "> mapping([&quot;p&quot;, &quot;s&quot;]) ➞ { &quot;p&quot;: &quot;P&quot;, &quot;s&quot;: &quot;S&quot; }\n",
        "\n",
        "- Notes: \n",
        "All of the letters in the input list will always be lowercase.\n",
        "\n",
        "4. Write a function, that replaces all vowels in a string with a specified vowel.\n",
        "- Examples\n",
        "> vow_replace(&quot;apples and bananas&quot;, &quot;u&quot;) ➞ &quot;upplus und bununus&quot;\n",
        "\n",
        "- Notes: \n",
        "All words will be lowercase. Y is not considered a vowel.\n",
        "\n",
        "5. Create a function that takes a string as input and capitalizes a letter if its ASCII code is even\n",
        "and returns its lower case version if its ASCII code is odd.\n",
        "- Examples\n",
        "> ascii_capitalize(&quot;to be or not to be!&quot;) ➞ &quot;To Be oR NoT To Be!&quot;"
      ],
      "metadata": {
        "id": "d4Da1Nlb8aez"
      }
    },
    {
      "cell_type": "code",
      "source": [
        "# ques 1\n",
        "\n",
        "def equal(a,b,c):\n",
        "  try:\n",
        "    if type(a)==int and type(b)==int and type(c)==int:\n",
        "      l = [a,b,c]\n",
        "\n",
        "      c=0\n",
        "        \n",
        "      for i in l:\n",
        "            if l.count(i)>1 and l.count(i)<=3:\n",
        "              c+=1   \n",
        "      return c  \n",
        "    else:\n",
        "          raise Exception('please enter integer only') \n",
        "\n",
        "  except Exception as e:\n",
        "    return  e \n",
        "\n",
        "\n",
        "\n",
        "\n",
        "equal(0, 4, '0')\n"
      ],
      "metadata": {
        "id": "yufyEq7c9bKJ",
        "colab": {
          "base_uri": "https://localhost:8080/"
        },
        "outputId": "8b763481-dd91-43df-a927-233447f4724c"
      },
      "execution_count": 46,
      "outputs": [
        {
          "output_type": "execute_result",
          "data": {
            "text/plain": [
              "Exception('please enter integer only')"
            ]
          },
          "metadata": {},
          "execution_count": 46
        }
      ]
    },
    {
      "cell_type": "code",
      "source": [
        "equal(0, 4, 0)"
      ],
      "metadata": {
        "colab": {
          "base_uri": "https://localhost:8080/"
        },
        "id": "S70xZ2CTpaxr",
        "outputId": "6cb2201a-8b40-4f42-ac49-62ab81f379ef"
      },
      "execution_count": 47,
      "outputs": [
        {
          "output_type": "execute_result",
          "data": {
            "text/plain": [
              "2"
            ]
          },
          "metadata": {},
          "execution_count": 47
        }
      ]
    },
    {
      "cell_type": "code",
      "source": [
        "# ques 2\n",
        "\n",
        "def dict_to_list(d):\n",
        "    d1 = sorted(d.items(),key=lambda kv:kv[0])\n",
        "\n",
        "\n",
        "    return list(d1)   \n",
        "\n",
        "dict_to_list({ \"D\": 1, \"B\": 2, \"C\": 3 })\n"
      ],
      "metadata": {
        "colab": {
          "base_uri": "https://localhost:8080/"
        },
        "id": "vQ6FM4jfxdSl",
        "outputId": "5bf039ce-02de-4521-8bd7-385949cdaf4f"
      },
      "execution_count": 22,
      "outputs": [
        {
          "output_type": "execute_result",
          "data": {
            "text/plain": [
              "[('B', 2), ('C', 3), ('D', 1)]"
            ]
          },
          "metadata": {},
          "execution_count": 22
        }
      ]
    },
    {
      "cell_type": "code",
      "source": [
        "# ques 3\n",
        "\n",
        "def mapping(l):\n",
        "  d={}\n",
        "  try:\n",
        "    for i in l:\n",
        "      if not i.islower():\n",
        "        raise Exception('please enter lower case only')\n",
        "      d[i]=i.upper()\n",
        "    return d\n",
        "  except Exception as e:\n",
        "     return e  \n",
        "\n",
        "mapping([\"p\", \"S\"])\n"
      ],
      "metadata": {
        "colab": {
          "base_uri": "https://localhost:8080/"
        },
        "id": "gK1SE5przXYV",
        "outputId": "32f46e7e-cfff-4eb3-fdf0-85ff830ac128"
      },
      "execution_count": 48,
      "outputs": [
        {
          "output_type": "execute_result",
          "data": {
            "text/plain": [
              "Exception('please enter lower case only')"
            ]
          },
          "metadata": {},
          "execution_count": 48
        }
      ]
    },
    {
      "cell_type": "code",
      "source": [
        "mapping([\"p\", \"s\"])"
      ],
      "metadata": {
        "colab": {
          "base_uri": "https://localhost:8080/"
        },
        "id": "CmJBbHtipl1Q",
        "outputId": "56a11d52-01a0-4e4f-f7d3-b77ffa9b7b91"
      },
      "execution_count": 49,
      "outputs": [
        {
          "output_type": "execute_result",
          "data": {
            "text/plain": [
              "{'p': 'P', 's': 'S'}"
            ]
          },
          "metadata": {},
          "execution_count": 49
        }
      ]
    },
    {
      "cell_type": "code",
      "source": [
        "# ques 4\n",
        "\n",
        "def vow_replace(s,v):\n",
        "  try:\n",
        "    vowels=['a','e','i','o','u']\n",
        "    m = '' \n",
        "    if v  in vowels:   \n",
        "      if s.islower() and v.islower():\n",
        "        for i in s:\n",
        "          if i in vowels:\n",
        "            m += v\n",
        "          else:\n",
        "            m+=i\n",
        "        return m\n",
        "      else:\n",
        "        raise Exception('Exception : all the characters must in lower case') \n",
        "    else:\n",
        "        raise Exception('Exception : replacing element must be a vowel')\n",
        "\n",
        "  except Exception as e:\n",
        "     return e \n",
        "\n",
        "vow_replace(\"Apples and bananas\", \"u\")"
      ],
      "metadata": {
        "colab": {
          "base_uri": "https://localhost:8080/"
        },
        "id": "jdiT6T-Q33Tb",
        "outputId": "719c2c56-3be0-4dbf-c4eb-0e016eeaf6fa"
      },
      "execution_count": 50,
      "outputs": [
        {
          "output_type": "execute_result",
          "data": {
            "text/plain": [
              "Exception('Exception : all the characters must in lower case')"
            ]
          },
          "metadata": {},
          "execution_count": 50
        }
      ]
    },
    {
      "cell_type": "code",
      "source": [
        "vow_replace(\"apples and bananas\", \"n\")"
      ],
      "metadata": {
        "colab": {
          "base_uri": "https://localhost:8080/"
        },
        "id": "eZFgKPeKpriP",
        "outputId": "315ba3b4-760e-4ef2-f229-aed46bdac979"
      },
      "execution_count": 51,
      "outputs": [
        {
          "output_type": "execute_result",
          "data": {
            "text/plain": [
              "Exception('Exception : replacing element must be a vowel')"
            ]
          },
          "metadata": {},
          "execution_count": 51
        }
      ]
    },
    {
      "cell_type": "code",
      "source": [
        "vow_replace(\"apples and bananas\", \"i\")"
      ],
      "metadata": {
        "colab": {
          "base_uri": "https://localhost:8080/",
          "height": 36
        },
        "id": "s1nUh0WzpvPn",
        "outputId": "f278c366-126d-4656-ec58-0654614fa50e"
      },
      "execution_count": 52,
      "outputs": [
        {
          "output_type": "execute_result",
          "data": {
            "text/plain": [
              "'ipplis ind bininis'"
            ],
            "application/vnd.google.colaboratory.intrinsic+json": {
              "type": "string"
            }
          },
          "metadata": {},
          "execution_count": 52
        }
      ]
    },
    {
      "cell_type": "code",
      "source": [
        "# ques 5\n",
        "\n",
        "def ascii_capitalize(s):\n",
        " try:\n",
        "  m=''\n",
        "  if s.islower():\n",
        "    for i in s:\n",
        "      if ord(i)%2==0:\n",
        "        m+=i.upper()\n",
        "      else:\n",
        "        m+=i\n",
        "    return m  \n",
        "  else:\n",
        "    raise Exception('all the character of the input string must be in lower case')  \n",
        " except Exception as e:\n",
        "   return e   \n",
        "\n",
        "\n",
        "\n",
        "ascii_capitalize(\"TO be or not to be!\") "
      ],
      "metadata": {
        "colab": {
          "base_uri": "https://localhost:8080/"
        },
        "id": "zkWb3BT2bWEM",
        "outputId": "d52dda17-a087-47e8-ba15-fd554ea08532"
      },
      "execution_count": 44,
      "outputs": [
        {
          "output_type": "execute_result",
          "data": {
            "text/plain": [
              "Exception('all the character of the input string must be in lower case')"
            ]
          },
          "metadata": {},
          "execution_count": 44
        }
      ]
    },
    {
      "cell_type": "code",
      "source": [
        "ascii_capitalize(\"to be or not to be!\") "
      ],
      "metadata": {
        "colab": {
          "base_uri": "https://localhost:8080/",
          "height": 36
        },
        "id": "AkTsm1FPbaH5",
        "outputId": "2721306f-4ccb-4690-be64-1c34396a69b5"
      },
      "execution_count": 45,
      "outputs": [
        {
          "output_type": "execute_result",
          "data": {
            "text/plain": [
              "'To Be oR NoT To Be!'"
            ],
            "application/vnd.google.colaboratory.intrinsic+json": {
              "type": "string"
            }
          },
          "metadata": {},
          "execution_count": 45
        }
      ]
    },
    {
      "cell_type": "code",
      "source": [],
      "metadata": {
        "id": "2OHgfMKNpFor"
      },
      "execution_count": null,
      "outputs": []
    }
  ]
}