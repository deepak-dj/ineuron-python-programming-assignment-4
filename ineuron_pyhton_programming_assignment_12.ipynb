{
  "nbformat": 4,
  "nbformat_minor": 0,
  "metadata": {
    "colab": {
      "provenance": [],
      "collapsed_sections": []
    },
    "kernelspec": {
      "name": "python3",
      "display_name": "Python 3"
    },
    "language_info": {
      "name": "python"
    }
  },
  "cells": [
    {
      "cell_type": "markdown",
      "source": [
        "# Python Programme Assignment 12\n"
      ],
      "metadata": {
        "id": "N-Jkj65ZdK1A"
      }
    },
    {
      "cell_type": "markdown",
      "source": [
        "1. Write a Python program to Extract Unique values dictionary values?\n",
        "2. Write a Python program to find the sum of all items in a dictionary?\n",
        "3. Write a Python program to Merging two Dictionaries?\n",
        "4. Write a Python program to convert key-values list to flat dictionary?\n",
        "5. Write a Python program to insertion at the beginning in OrderedDict?\n",
        "6. Write a Python program to check order of character in string using OrderedDict()?\n",
        "7. Write a Python program to sort Python Dictionaries by Key or Value?"
      ],
      "metadata": {
        "id": "m3A419DkdIvp"
      }
    },
    {
      "cell_type": "code",
      "source": [
        "# ques 1\n",
        "\n",
        "dic = {'a':[2,3,4,5,6],'b':[2,3,4,4,9,0],'c':[4,52,3,5,6,7],'d':[1,23,4,5],'e':[10,1,12,23]}\n",
        "l = []\n",
        "for i in dic.values():\n",
        "  for j in i:\n",
        "    l.append(j)\n",
        "\n",
        "unique_values = list(set(l))\n",
        "\n",
        "unique_values\n"
      ],
      "metadata": {
        "id": "v0b7MM3sdJby",
        "colab": {
          "base_uri": "https://localhost:8080/"
        },
        "outputId": "4b7046b1-47af-4e99-edef-6076dea6c71a"
      },
      "execution_count": 13,
      "outputs": [
        {
          "output_type": "execute_result",
          "data": {
            "text/plain": [
              "[0, 1, 2, 3, 4, 5, 6, 7, 9, 10, 12, 52, 23]"
            ]
          },
          "metadata": {},
          "execution_count": 13
        }
      ]
    },
    {
      "cell_type": "code",
      "source": [
        "# ques 2\n",
        "\n",
        "d= {'a':30,'b':40,'c':20}\n",
        "s = 0\n",
        "for i in d.values():\n",
        "  s+=i\n",
        "s  "
      ],
      "metadata": {
        "colab": {
          "base_uri": "https://localhost:8080/"
        },
        "id": "oWLFbeaFflzu",
        "outputId": "36adbaf7-a4ad-47ea-b98b-ef0d519a9dbb"
      },
      "execution_count": 15,
      "outputs": [
        {
          "output_type": "execute_result",
          "data": {
            "text/plain": [
              "90"
            ]
          },
          "metadata": {},
          "execution_count": 15
        }
      ]
    },
    {
      "cell_type": "code",
      "source": [
        "# ques 3\n",
        "\n",
        "d1 = {'a':20,'b':4,'c':90}\n",
        "d2 = {'d':3,'e':45,'f':5}\n",
        "\n",
        "d1.update(d2)\n",
        "\n",
        "d1\n"
      ],
      "metadata": {
        "colab": {
          "base_uri": "https://localhost:8080/"
        },
        "id": "vtxPVIV_hBhQ",
        "outputId": "06baf9bb-fd3b-4ab9-a920-158194a9e163"
      },
      "execution_count": 20,
      "outputs": [
        {
          "output_type": "execute_result",
          "data": {
            "text/plain": [
              "{'a': 20, 'b': 4, 'c': 90, 'd': 3, 'e': 45, 'f': 5}"
            ]
          },
          "metadata": {},
          "execution_count": 20
        }
      ]
    },
    {
      "cell_type": "code",
      "source": [
        "# ques 4\n",
        "\n",
        "l = [['a',2],['b',3],['c',4],['d',5]]\n",
        "dict(l)"
      ],
      "metadata": {
        "colab": {
          "base_uri": "https://localhost:8080/"
        },
        "id": "Tg_vf_6nhhpp",
        "outputId": "385db68d-d047-48d3-a616-bba70606911e"
      },
      "execution_count": 22,
      "outputs": [
        {
          "output_type": "execute_result",
          "data": {
            "text/plain": [
              "{'a': 2, 'b': 3, 'c': 4, 'd': 5}"
            ]
          },
          "metadata": {},
          "execution_count": 22
        }
      ]
    },
    {
      "cell_type": "code",
      "source": [
        "# ques 5\n",
        "\n",
        "from collections import OrderedDict\n",
        "\n",
        "d = OrderedDict({'a':1,'b':'10','c':'100'})\n",
        "print(f'original dict : {d}')\n",
        "d.update({'d':100})\n",
        "d.move_to_end('d',last=False)\n",
        "d.items()\n",
        "print()\n",
        "print('new dict')\n",
        "dict(d)"
      ],
      "metadata": {
        "colab": {
          "base_uri": "https://localhost:8080/"
        },
        "id": "Uz2jegAni4nN",
        "outputId": "57cdf923-e01e-429a-8703-fc3ba2b8efde"
      },
      "execution_count": 48,
      "outputs": [
        {
          "output_type": "stream",
          "name": "stdout",
          "text": [
            "original dict : OrderedDict([('a', 1), ('b', '10'), ('c', '100')])\n",
            "\n",
            "new dict\n"
          ]
        },
        {
          "output_type": "execute_result",
          "data": {
            "text/plain": [
              "{'d': 100, 'a': 1, 'b': '10', 'c': '100'}"
            ]
          },
          "metadata": {},
          "execution_count": 48
        }
      ]
    },
    {
      "cell_type": "code",
      "source": [
        "# ques 6\n",
        "\n",
        "def pattern_check(txt,ptrn):\n",
        "  d = OrderedDict.fromkeys(txt)\n",
        "  c = 0\n",
        "  for k,v in d.items():\n",
        "    if k == ptrn[c]:\n",
        "      c+=1\n",
        "    if c == len(ptrn):\n",
        "      return True  \n",
        "  return False\n",
        "\n",
        "\n",
        "pattern_check('hello','eo')\n"
      ],
      "metadata": {
        "colab": {
          "base_uri": "https://localhost:8080/"
        },
        "id": "8mynGR7fk3tA",
        "outputId": "01f7d051-d392-40b5-fbbe-ce28bbd943af"
      },
      "execution_count": 38,
      "outputs": [
        {
          "output_type": "execute_result",
          "data": {
            "text/plain": [
              "True"
            ]
          },
          "metadata": {},
          "execution_count": 38
        }
      ]
    },
    {
      "cell_type": "code",
      "source": [
        "# ques 7\n",
        "\n",
        "d = {'c':10,'a':0,'b':60,'x':1,'e':90,'d':4}\n",
        "print('sorted keys dictonary')\n",
        "print()\n",
        "# dict(sorted(d.items()))\n",
        "dict(sorted(d.items(),key=lambda k: k[0]))"
      ],
      "metadata": {
        "colab": {
          "base_uri": "https://localhost:8080/"
        },
        "id": "-eXmKhjqnvyB",
        "outputId": "44a70979-9fa3-46f5-f194-c32d10f26b19"
      },
      "execution_count": 87,
      "outputs": [
        {
          "output_type": "stream",
          "name": "stdout",
          "text": [
            "sorted keys dictonary\n",
            "\n"
          ]
        },
        {
          "output_type": "execute_result",
          "data": {
            "text/plain": [
              "{'a': 0, 'b': 60, 'c': 10, 'd': 4, 'e': 90, 'x': 1}"
            ]
          },
          "metadata": {},
          "execution_count": 87
        }
      ]
    },
    {
      "cell_type": "code",
      "source": [
        "print('sorted values dictonary')\n",
        "print()\n",
        "dict(sorted(d.items(),key=lambda v: v[1]))\n",
        "  "
      ],
      "metadata": {
        "colab": {
          "base_uri": "https://localhost:8080/"
        },
        "id": "XgbDoeF8upsE",
        "outputId": "feb69d42-b4b7-437f-a1e9-579889305cec"
      },
      "execution_count": 88,
      "outputs": [
        {
          "output_type": "stream",
          "name": "stdout",
          "text": [
            "sorted values dictonary\n",
            "\n"
          ]
        },
        {
          "output_type": "execute_result",
          "data": {
            "text/plain": [
              "{'a': 0, 'x': 1, 'd': 4, 'c': 10, 'b': 60, 'e': 90}"
            ]
          },
          "metadata": {},
          "execution_count": 88
        }
      ]
    },
    {
      "cell_type": "code",
      "source": [],
      "metadata": {
        "id": "T_VUyB0UxmGp"
      },
      "execution_count": 77,
      "outputs": []
    },
    {
      "cell_type": "code",
      "source": [],
      "metadata": {
        "id": "rmDqJ8My0Req"
      },
      "execution_count": null,
      "outputs": []
    }
  ]
}